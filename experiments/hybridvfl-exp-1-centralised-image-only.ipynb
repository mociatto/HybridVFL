{
 "cells": [
  {
   "cell_type": "code",
   "execution_count": 1,
   "id": "b5528ff9",
   "metadata": {
    "_cell_guid": "0c9fa9b2-e78b-4460-b763-2563f47fb244",
    "_uuid": "0eaf9fd6-8776-490f-b964-85890ae8f766",
    "collapsed": false,
    "execution": {
     "iopub.execute_input": "2025-10-25T21:21:40.951612Z",
     "iopub.status.busy": "2025-10-25T21:21:40.950960Z",
     "iopub.status.idle": "2025-10-25T21:21:56.222147Z",
     "shell.execute_reply": "2025-10-25T21:21:56.221407Z"
    },
    "jupyter": {
     "outputs_hidden": false
    },
    "papermill": {
     "duration": 15.27677,
     "end_time": "2025-10-25T21:21:56.223694",
     "exception": false,
     "start_time": "2025-10-25T21:21:40.946924",
     "status": "completed"
    },
    "tags": []
   },
   "outputs": [
    {
     "name": "stderr",
     "output_type": "stream",
     "text": [
      "2025-10-25 21:21:44.094464: E external/local_xla/xla/stream_executor/cuda/cuda_fft.cc:477] Unable to register cuFFT factory: Attempting to register factory for plugin cuFFT when one has already been registered\n",
      "WARNING: All log messages before absl::InitializeLog() is called are written to STDERR\n",
      "E0000 00:00:1761427304.284829      19 cuda_dnn.cc:8310] Unable to register cuDNN factory: Attempting to register factory for plugin cuDNN when one has already been registered\n",
      "E0000 00:00:1761427304.341068      19 cuda_blas.cc:1418] Unable to register cuBLAS factory: Attempting to register factory for plugin cuBLAS when one has already been registered\n"
     ]
    }
   ],
   "source": [
    "import numpy as np\n",
    "import pandas as pd\n",
    "import matplotlib.pyplot as plt\n",
    "import tensorflow as tf\n",
    "from tensorflow.keras.preprocessing.image import ImageDataGenerator\n",
    "from tensorflow.keras.models import Sequential, Model\n",
    "from tensorflow.keras.layers import Conv2D, BatchNormalization, MaxPool2D, Flatten, Dense, Dropout, Input, Concatenate\n",
    "from tensorflow.keras.optimizers import Adam\n",
    "from tensorflow.keras.callbacks import EarlyStopping, ModelCheckpoint, ReduceLROnPlateau\n",
    "from tensorflow.keras.utils import to_categorical\n",
    "from sklearn.model_selection import train_test_split\n",
    "from sklearn.utils.class_weight import compute_class_weight\n",
    "from sklearn.metrics import balanced_accuracy_score, confusion_matrix, accuracy_score, precision_score, recall_score, f1_score\n",
    "from sklearn.preprocessing import StandardScaler\n",
    "import cv2\n",
    "import os\n",
    "import seaborn as sns\n",
    "import warnings\n",
    "import pickle\n",
    "\n",
    "RANDOM_STATE = 42\n",
    "np.random.seed(RANDOM_STATE)\n",
    "tf.random.set_seed(RANDOM_STATE)\n",
    "warnings.filterwarnings('ignore')\n",
    "os.environ['TF_CPP_MIN_LOG_LEVEL'] = '2'"
   ]
  },
  {
   "cell_type": "code",
   "execution_count": 2,
   "id": "0b1f3cb4",
   "metadata": {
    "_cell_guid": "04760fda-51d0-4b2a-a037-ebadd8a5bf6e",
    "_uuid": "bd90d2bc-d1db-4807-bc04-0e2023804207",
    "collapsed": false,
    "execution": {
     "iopub.execute_input": "2025-10-25T21:21:56.231260Z",
     "iopub.status.busy": "2025-10-25T21:21:56.230518Z",
     "iopub.status.idle": "2025-10-25T21:21:56.278879Z",
     "shell.execute_reply": "2025-10-25T21:21:56.278170Z"
    },
    "jupyter": {
     "outputs_hidden": false
    },
    "papermill": {
     "duration": 0.053165,
     "end_time": "2025-10-25T21:21:56.280197",
     "exception": false,
     "start_time": "2025-10-25T21:21:56.227032",
     "status": "completed"
    },
    "tags": []
   },
   "outputs": [],
   "source": [
    "df_skin = pd.read_csv('/kaggle/input/skin-cancer-mnist-ham10000/HAM10000_metadata.csv')\n",
    "\n",
    "lesion_type_dict = {\n",
    "    'nv': 'Melanocytic nevi',\n",
    "    'mel': 'Melanoma', \n",
    "    'bkl': 'Benign keratosis-like lesions',\n",
    "    'bcc': 'Basal cell carcinoma',\n",
    "    'akiec': 'Actinic keratoses',\n",
    "    'vasc': 'Vascular lesions',\n",
    "    'df': 'Dermatofibroma'\n",
    "}\n",
    "\n",
    "lesion_ID_dict = {\n",
    "    'nv': 0, 'mel': 1, 'bkl': 2, 'bcc': 3, \n",
    "    'akiec': 4, 'vasc': 5, 'df': 6\n",
    "}\n",
    "\n",
    "df_skin['lesion_type'] = df_skin['dx'].map(lesion_type_dict)\n",
    "df_skin['lesion_ID'] = df_skin['dx'].map(lesion_ID_dict)"
   ]
  },
  {
   "cell_type": "code",
   "execution_count": 3,
   "id": "f1e024fd",
   "metadata": {
    "_cell_guid": "f9dd30e6-0750-4619-83e9-130b5e227cae",
    "_uuid": "2db6e8c9-7bf4-4f92-9b30-b9c4b2613fe1",
    "collapsed": false,
    "execution": {
     "iopub.execute_input": "2025-10-25T21:21:56.287111Z",
     "iopub.status.busy": "2025-10-25T21:21:56.286872Z",
     "iopub.status.idle": "2025-10-25T21:21:56.568046Z",
     "shell.execute_reply": "2025-10-25T21:21:56.567421Z"
    },
    "jupyter": {
     "outputs_hidden": false
    },
    "papermill": {
     "duration": 0.286399,
     "end_time": "2025-10-25T21:21:56.569515",
     "exception": false,
     "start_time": "2025-10-25T21:21:56.283116",
     "status": "completed"
    },
    "tags": []
   },
   "outputs": [],
   "source": [
    "df_features = df_skin.copy()\n",
    "\n",
    "missing_age = df_skin['age'].isnull().sum()\n",
    "zero_age = (df_skin['age'] == 0).sum()\n",
    "\n",
    "if missing_age > 0 or zero_age > 0:\n",
    "    mean_ages_per_class = df_features[df_features['age'] > 0].groupby('dx')['age'].mean().round().astype(int)\n",
    "    df_features['age'] = df_features.apply(\n",
    "        lambda row: mean_ages_per_class[row['dx']] if pd.isna(row['age']) or row['age'] == 0 else row['age'],\n",
    "        axis=1\n",
    "    )\n",
    "\n",
    "unknown_sex_count = (df_features['sex'] == 'unknown').sum()\n",
    "if unknown_sex_count > 0:\n",
    "    majority_sex_per_class = df_features[df_features['sex'] != 'unknown'].groupby('dx')['sex'].agg(lambda x: x.mode().iloc[0] if not x.mode().empty else 'unknown')\n",
    "    df_features['sex'] = df_features.apply(\n",
    "        lambda row: majority_sex_per_class[row['dx']] if row['sex'] == 'unknown' else row['sex'],\n",
    "        axis=1\n",
    "    )\n",
    "\n",
    "unknown_localization_count = (df_features['localization'] == 'unknown').sum()\n",
    "if unknown_localization_count > 0:\n",
    "    majority_localization_per_class = df_features[df_features['localization'] != 'unknown'].groupby('dx')['localization'].agg(lambda x: x.mode().iloc[0] if not x.mode().empty else 'unknown')\n",
    "    overall_majority = df_features[df_features['localization'] != 'unknown']['localization'].mode().iloc[0] if not df_features[df_features['localization'] != 'unknown']['localization'].mode().empty else 'trunk'\n",
    "    df_features['localization'] = df_features.apply(\n",
    "        lambda row: (majority_localization_per_class.get(row['dx'], overall_majority) \n",
    "                    if majority_localization_per_class.get(row['dx'], overall_majority) != 'unknown' \n",
    "                    else overall_majority) if row['localization'] == 'unknown' else row['localization'],\n",
    "        axis=1\n",
    "    )\n",
    "\n",
    "sex_encoded = pd.get_dummies(df_features['sex'], prefix='sex')\n",
    "df_features = pd.concat([df_features, sex_encoded], axis=1)\n",
    "\n",
    "localization_encoded = pd.get_dummies(df_features['localization'], prefix='localization')\n",
    "df_features = pd.concat([df_features, localization_encoded], axis=1)\n",
    "\n",
    "sun_exposure_mapping = {\n",
    "    'face': 1.0, 'neck': 0.9, 'ear': 0.9, 'scalp': 0.8, 'hand': 0.8,\n",
    "    'upper extremity': 0.7, 'lower extremity': 0.6, 'chest': 0.5,\n",
    "    'back': 0.4, 'foot': 0.4, 'trunk': 0.3, 'abdomen': 0.2,\n",
    "    'acral': 0.3, 'genital': 0.01\n",
    "}\n",
    "\n",
    "df_features['sun_exposure_score'] = df_features['localization'].map(sun_exposure_mapping)\n",
    "df_features['age_exposure_interaction'] = df_features['age'] * df_features['sun_exposure_score']\n",
    "\n",
    "tabular_features = df_features[['lesion_id', 'image_id', 'lesion_ID'] + \n",
    "                              [col for col in df_features.columns if col.startswith(('sex_', 'localization_'))] +\n",
    "                              ['age', 'sun_exposure_score', 'age_exposure_interaction']].copy()"
   ]
  },
  {
   "cell_type": "code",
   "execution_count": 4,
   "id": "0a71b071",
   "metadata": {
    "_cell_guid": "4cc75d4e-826a-4473-aaa6-6a526332654c",
    "_uuid": "6a29e553-ea5f-4fe1-a361-4aa6d2fe8ee2",
    "collapsed": false,
    "execution": {
     "iopub.execute_input": "2025-10-25T21:21:56.576103Z",
     "iopub.status.busy": "2025-10-25T21:21:56.575896Z",
     "iopub.status.idle": "2025-10-25T21:21:56.582300Z",
     "shell.execute_reply": "2025-10-25T21:21:56.581791Z"
    },
    "jupyter": {
     "outputs_hidden": false
    },
    "papermill": {
     "duration": 0.011148,
     "end_time": "2025-10-25T21:21:56.583615",
     "exception": false,
     "start_time": "2025-10-25T21:21:56.572467",
     "status": "completed"
    },
    "tags": []
   },
   "outputs": [],
   "source": [
    "def produce_augmented_images(img, target_class):\n",
    "    if target_class == 0:\n",
    "        return [img]\n",
    "    \n",
    "    augmented = [\n",
    "        cv2.rotate(img, cv2.ROTATE_90_CLOCKWISE),\n",
    "        cv2.rotate(img, cv2.ROTATE_90_COUNTERCLOCKWISE), \n",
    "        cv2.rotate(img, cv2.ROTATE_180),\n",
    "        cv2.flip(img, 0),\n",
    "        cv2.flip(img, 1)\n",
    "    ]\n",
    "    return [img] + augmented\n",
    "\n",
    "def load_and_preprocess_images():\n",
    "    x, y = [], []\n",
    "    image_dirs = ['/kaggle/input/skin-cancer-mnist-ham10000/HAM10000_images_part_1/', \n",
    "                  '/kaggle/input/skin-cancer-mnist-ham10000/HAM10000_images_part_2/']\n",
    "    \n",
    "    for img_dir in image_dirs:\n",
    "        if not os.path.exists(img_dir):\n",
    "            continue\n",
    "            \n",
    "        file_list = [f for f in os.listdir(img_dir) if f.endswith('.jpg')]\n",
    "        \n",
    "        for filename in file_list:\n",
    "            img_path = os.path.join(img_dir, filename)\n",
    "            img = cv2.imread(img_path)\n",
    "            if img is None:\n",
    "                continue\n",
    "                \n",
    "            img_resized = cv2.resize(img, (100, 100))\n",
    "            image_id = filename.replace('.jpg', '')\n",
    "            lesion_data = df_skin[df_skin['image_id'] == image_id]\n",
    "            \n",
    "            if len(lesion_data) == 0:\n",
    "                continue\n",
    "                \n",
    "            lesion_id = lesion_data['lesion_ID'].iloc[0]\n",
    "            augmented_imgs = produce_augmented_images(img_resized, lesion_id)\n",
    "            \n",
    "            for aug_img in augmented_imgs:\n",
    "                x.append(aug_img)\n",
    "                y.append(lesion_id)\n",
    "    \n",
    "    return np.array(x), np.array(y)"
   ]
  },
  {
   "cell_type": "code",
   "execution_count": 5,
   "id": "1fee6eb5",
   "metadata": {
    "_cell_guid": "6398d833-3527-4bbf-81e5-c9ff43467f6e",
    "_uuid": "cd75f4d0-0a10-4863-b684-098f2e0a77f9",
    "collapsed": false,
    "execution": {
     "iopub.execute_input": "2025-10-25T21:21:56.589928Z",
     "iopub.status.busy": "2025-10-25T21:21:56.589444Z",
     "iopub.status.idle": "2025-10-25T21:24:24.275236Z",
     "shell.execute_reply": "2025-10-25T21:24:24.274597Z"
    },
    "jupyter": {
     "outputs_hidden": false
    },
    "papermill": {
     "duration": 147.690532,
     "end_time": "2025-10-25T21:24:24.276692",
     "exception": false,
     "start_time": "2025-10-25T21:21:56.586160",
     "status": "completed"
    },
    "tags": []
   },
   "outputs": [],
   "source": [
    "augmented_data_paths = [\n",
    "    '/kaggle/working/X_augmented.npy',\n",
    "    '/kaggle/working/y_augmented.npy', \n",
    "    '/kaggle/working/y_categorical_augmented.npy'\n",
    "]\n",
    "\n",
    "if all(os.path.exists(path) for path in augmented_data_paths):\n",
    "    X = np.load('/kaggle/working/X_augmented.npy')\n",
    "    y = np.load('/kaggle/working/y_augmented.npy')\n",
    "    y_categorical = np.load('/kaggle/working/y_categorical_augmented.npy')\n",
    "else:\n",
    "    X, y = load_and_preprocess_images()\n",
    "    y_categorical = to_categorical(y, num_classes=7)\n",
    "    np.save('/kaggle/working/X_augmented.npy', X)\n",
    "    np.save('/kaggle/working/y_augmented.npy', y)\n",
    "    np.save('/kaggle/working/y_categorical_augmented.npy', y_categorical)"
   ]
  },
  {
   "cell_type": "code",
   "execution_count": 6,
   "id": "57fd306c",
   "metadata": {
    "_cell_guid": "8e0cea4d-5b5a-4507-a089-525146cc211c",
    "_uuid": "a80e0e20-1b68-4167-9137-506d85900369",
    "collapsed": false,
    "execution": {
     "iopub.execute_input": "2025-10-25T21:24:24.282917Z",
     "iopub.status.busy": "2025-10-25T21:24:24.282704Z",
     "iopub.status.idle": "2025-10-25T21:24:24.479924Z",
     "shell.execute_reply": "2025-10-25T21:24:24.479289Z"
    },
    "jupyter": {
     "outputs_hidden": false
    },
    "papermill": {
     "duration": 0.201644,
     "end_time": "2025-10-25T21:24:24.481230",
     "exception": false,
     "start_time": "2025-10-25T21:24:24.279586",
     "status": "completed"
    },
    "tags": []
   },
   "outputs": [],
   "source": [
    "X_train, X_test, y_train, y_test = train_test_split(\n",
    "    X, y_categorical, \n",
    "    test_size=0.2, \n",
    "    random_state=RANDOM_STATE, \n",
    "    stratify=y\n",
    ")\n",
    "\n",
    "y_train_labels = np.argmax(y_train, axis=1)\n",
    "class_weights = compute_class_weight(\n",
    "    'balanced', \n",
    "    classes=np.unique(y_train_labels), \n",
    "    y=y_train_labels\n",
    ")\n",
    "class_weight_dict = dict(zip(np.unique(y_train_labels), class_weights))"
   ]
  },
  {
   "cell_type": "code",
   "execution_count": 7,
   "id": "bb51dd75",
   "metadata": {
    "_cell_guid": "5b760169-edda-4429-a6ec-7458de07c2c6",
    "_uuid": "f223d7da-3f38-45a5-8457-fc86ee2e6fb6",
    "collapsed": false,
    "execution": {
     "iopub.execute_input": "2025-10-25T21:24:24.487430Z",
     "iopub.status.busy": "2025-10-25T21:24:24.487188Z",
     "iopub.status.idle": "2025-10-25T21:24:26.469485Z",
     "shell.execute_reply": "2025-10-25T21:24:26.468861Z"
    },
    "jupyter": {
     "outputs_hidden": false
    },
    "papermill": {
     "duration": 1.986778,
     "end_time": "2025-10-25T21:24:26.470811",
     "exception": false,
     "start_time": "2025-10-25T21:24:24.484033",
     "status": "completed"
    },
    "tags": []
   },
   "outputs": [
    {
     "name": "stderr",
     "output_type": "stream",
     "text": [
      "I0000 00:00:1761427465.239684      19 gpu_device.cc:2022] Created device /job:localhost/replica:0/task:0/device:GPU:0 with 15513 MB memory:  -> device: 0, name: Tesla P100-PCIE-16GB, pci bus id: 0000:00:04.0, compute capability: 6.0\n"
     ]
    }
   ],
   "source": [
    "def create_cnn_model(input_shape=(100, 100, 3), num_classes=7):\n",
    "    model = Sequential([\n",
    "        Conv2D(96, (11, 11), strides=(4, 4), activation='relu', input_shape=input_shape),\n",
    "        BatchNormalization(),\n",
    "        MaxPool2D(pool_size=(3, 3), strides=(2, 2)),\n",
    "        \n",
    "        Conv2D(256, (5, 5), strides=(1, 1), activation='relu', padding='same'),\n",
    "        BatchNormalization(),\n",
    "        MaxPool2D(pool_size=(3, 3), strides=(2, 2)),\n",
    "        \n",
    "        Conv2D(384, (3, 3), strides=(1, 1), activation='relu', padding='same'),\n",
    "        BatchNormalization(),\n",
    "        \n",
    "        Conv2D(384, (1, 1), strides=(1, 1), activation='relu', padding='same'),\n",
    "        BatchNormalization(),\n",
    "        \n",
    "        Conv2D(256, (1, 1), strides=(1, 1), activation='relu', padding='same'),\n",
    "        BatchNormalization(),\n",
    "        MaxPool2D(pool_size=(3, 3), strides=(2, 2)),\n",
    "        \n",
    "        Flatten(),\n",
    "        Dense(4096, activation='relu'),\n",
    "        Dropout(0.5),\n",
    "        Dense(4096, activation='relu'), \n",
    "        Dropout(0.5),\n",
    "        Dense(num_classes, activation='softmax')\n",
    "    ])\n",
    "    \n",
    "    return model\n",
    "\n",
    "model = create_cnn_model()\n",
    "model.compile(\n",
    "    optimizer=Adam(learning_rate=0.0001),\n",
    "    loss='categorical_crossentropy',\n",
    "    metrics=['accuracy']\n",
    ")"
   ]
  },
  {
   "cell_type": "code",
   "execution_count": 8,
   "id": "8ee9a30f",
   "metadata": {
    "_cell_guid": "42e96553-4866-4f0c-a3c4-5bc0bb3f33b1",
    "_uuid": "f91a5765-d6d2-4cf5-b089-a478e8af45a0",
    "collapsed": false,
    "execution": {
     "iopub.execute_input": "2025-10-25T21:24:26.477002Z",
     "iopub.status.busy": "2025-10-25T21:24:26.476794Z",
     "iopub.status.idle": "2025-10-25T21:24:27.960305Z",
     "shell.execute_reply": "2025-10-25T21:24:27.959658Z"
    },
    "jupyter": {
     "outputs_hidden": false
    },
    "papermill": {
     "duration": 1.488116,
     "end_time": "2025-10-25T21:24:27.961716",
     "exception": false,
     "start_time": "2025-10-25T21:24:26.473600",
     "status": "completed"
    },
    "tags": []
   },
   "outputs": [],
   "source": [
    "BATCH_SIZE = 32\n",
    "EPOCHS = 50\n",
    "\n",
    "datagen = ImageDataGenerator(\n",
    "    zoom_range=0.2,\n",
    "    horizontal_flip=True,\n",
    "    shear_range=0.2,\n",
    "    rotation_range=10,\n",
    "    width_shift_range=0.1,\n",
    "    height_shift_range=0.1\n",
    ")\n",
    "datagen.fit(X_train)\n",
    "\n",
    "callbacks = [\n",
    "    ModelCheckpoint(\n",
    "        '/kaggle/working/best_image_model.keras',\n",
    "        monitor='val_accuracy',\n",
    "        save_best_only=True,\n",
    "        verbose=0\n",
    "    ),\n",
    "    EarlyStopping(\n",
    "        monitor='val_accuracy',\n",
    "        patience=15,\n",
    "        restore_best_weights=True,\n",
    "        verbose=0\n",
    "    ),\n",
    "    ReduceLROnPlateau(\n",
    "        monitor='val_loss',\n",
    "        factor=0.5,\n",
    "        patience=5,\n",
    "        min_lr=1e-7,\n",
    "        verbose=0\n",
    "    )\n",
    "]"
   ]
  },
  {
   "cell_type": "code",
   "execution_count": 9,
   "id": "bd9ba23f",
   "metadata": {
    "_cell_guid": "55087a62-2c18-4682-b943-cb68b14a6bcf",
    "_uuid": "bb0f1afe-9dba-4853-8924-3936e4888f74",
    "collapsed": false,
    "execution": {
     "iopub.execute_input": "2025-10-25T21:24:27.968473Z",
     "iopub.status.busy": "2025-10-25T21:24:27.967950Z",
     "iopub.status.idle": "2025-10-25T22:01:50.621542Z",
     "shell.execute_reply": "2025-10-25T22:01:50.620703Z"
    },
    "jupyter": {
     "outputs_hidden": false
    },
    "papermill": {
     "duration": 2242.66135,
     "end_time": "2025-10-25T22:01:50.625991",
     "exception": false,
     "start_time": "2025-10-25T21:24:27.964641",
     "status": "completed"
    },
    "tags": []
   },
   "outputs": [
    {
     "name": "stderr",
     "output_type": "stream",
     "text": [
      "WARNING: All log messages before absl::InitializeLog() is called are written to STDERR\n",
      "I0000 00:00:1761427474.698668      59 service.cc:148] XLA service 0x7a590c018ce0 initialized for platform CUDA (this does not guarantee that XLA will be used). Devices:\n",
      "I0000 00:00:1761427474.699423      59 service.cc:156]   StreamExecutor device (0): Tesla P100-PCIE-16GB, Compute Capability 6.0\n",
      "I0000 00:00:1761427475.308268      59 cuda_dnn.cc:529] Loaded cuDNN version 90300\n",
      "I0000 00:00:1761427480.836974      59 device_compiler.h:188] Compiled cluster using XLA!  This line is logged at most once for the lifetime of the process.\n"
     ]
    },
    {
     "name": "stdout",
     "output_type": "stream",
     "text": [
      "Training Progress:\n",
      "Epoch 1/50 - loss: 1.7244 - acc: 0.4036 - val_loss: 2.0380 - val_acc: 0.3032\n",
      "Epoch 2/50 - loss: 1.2669 - acc: 0.4935 - val_loss: 3.7816 - val_acc: 0.2923\n",
      "Epoch 3/50 - loss: 1.1845 - acc: 0.5276 - val_loss: 1.1652 - val_acc: 0.5573\n",
      "Epoch 4/50 - loss: 1.0942 - acc: 0.5427 - val_loss: 1.8485 - val_acc: 0.3394\n",
      "Epoch 5/50 - loss: 1.0721 - acc: 0.5630 - val_loss: 1.1300 - val_acc: 0.5562\n",
      "Epoch 6/50 - loss: 1.0032 - acc: 0.5739 - val_loss: 2.1757 - val_acc: 0.4052\n",
      "Epoch 7/50 - loss: 0.9509 - acc: 0.5949 - val_loss: 1.5476 - val_acc: 0.4694\n",
      "Epoch 8/50 - loss: 0.9347 - acc: 0.5935 - val_loss: 1.1780 - val_acc: 0.5389\n",
      "Epoch 9/50 - loss: 0.8633 - acc: 0.6160 - val_loss: 1.7268 - val_acc: 0.3732\n",
      "Epoch 10/50 - loss: 0.8435 - acc: 0.6192 - val_loss: 1.1491 - val_acc: 0.5594\n",
      "Epoch 11/50 - loss: 0.7412 - acc: 0.6519 - val_loss: 0.9223 - val_acc: 0.6418\n",
      "Epoch 12/50 - loss: 0.6965 - acc: 0.6624 - val_loss: 1.2265 - val_acc: 0.5507\n",
      "Epoch 13/50 - loss: 0.6607 - acc: 0.6736 - val_loss: 1.0717 - val_acc: 0.6017\n",
      "Epoch 14/50 - loss: 0.6597 - acc: 0.6794 - val_loss: 0.9145 - val_acc: 0.6435\n",
      "Epoch 15/50 - loss: 0.6250 - acc: 0.6886 - val_loss: 2.9250 - val_acc: 0.3779\n",
      "Epoch 16/50 - loss: 0.6141 - acc: 0.6949 - val_loss: 0.8804 - val_acc: 0.6450\n",
      "Epoch 17/50 - loss: 0.5794 - acc: 0.7028 - val_loss: 1.8947 - val_acc: 0.4847\n",
      "Epoch 18/50 - loss: 0.5686 - acc: 0.7102 - val_loss: 0.9347 - val_acc: 0.6477\n",
      "Epoch 19/50 - loss: 0.5540 - acc: 0.7139 - val_loss: 0.9733 - val_acc: 0.6175\n",
      "Epoch 20/50 - loss: 0.5337 - acc: 0.7224 - val_loss: 0.7056 - val_acc: 0.7239\n",
      "Epoch 21/50 - loss: 0.5131 - acc: 0.7304 - val_loss: 0.9187 - val_acc: 0.6646\n",
      "Epoch 22/50 - loss: 0.5042 - acc: 0.7320 - val_loss: 0.8788 - val_acc: 0.6768\n",
      "Epoch 23/50 - loss: 0.4874 - acc: 0.7440 - val_loss: 0.9214 - val_acc: 0.6586\n",
      "Epoch 24/50 - loss: 0.4834 - acc: 0.7464 - val_loss: 1.1594 - val_acc: 0.6027\n",
      "Epoch 25/50 - loss: 0.4861 - acc: 0.7460 - val_loss: 0.8309 - val_acc: 0.6879\n",
      "Epoch 26/50 - loss: 0.4307 - acc: 0.7642 - val_loss: 1.1025 - val_acc: 0.6349\n",
      "Epoch 27/50 - loss: 0.4043 - acc: 0.7756 - val_loss: 0.6906 - val_acc: 0.7235\n",
      "Epoch 28/50 - loss: 0.3904 - acc: 0.7826 - val_loss: 0.5923 - val_acc: 0.7644\n",
      "Epoch 29/50 - loss: 0.3743 - acc: 0.7920 - val_loss: 0.6980 - val_acc: 0.7371\n",
      "Epoch 30/50 - loss: 0.3737 - acc: 0.7934 - val_loss: 0.6129 - val_acc: 0.7564\n",
      "Epoch 31/50 - loss: 0.3629 - acc: 0.7948 - val_loss: 1.1225 - val_acc: 0.6138\n",
      "Epoch 32/50 - loss: 0.3561 - acc: 0.7971 - val_loss: 1.0250 - val_acc: 0.6403\n",
      "Epoch 33/50 - loss: 0.3508 - acc: 0.8040 - val_loss: 0.7443 - val_acc: 0.7359\n",
      "Epoch 34/50 - loss: 0.3204 - acc: 0.8120 - val_loss: 0.4656 - val_acc: 0.8193\n",
      "Epoch 35/50 - loss: 0.3102 - acc: 0.8213 - val_loss: 0.5132 - val_acc: 0.8043\n",
      "Epoch 36/50 - loss: 0.3105 - acc: 0.8215 - val_loss: 0.4781 - val_acc: 0.8169\n",
      "Epoch 37/50 - loss: 0.3059 - acc: 0.8259 - val_loss: 0.4403 - val_acc: 0.8285\n",
      "Epoch 38/50 - loss: 0.3028 - acc: 0.8231 - val_loss: 0.4865 - val_acc: 0.8076\n",
      "Epoch 39/50 - loss: 0.2973 - acc: 0.8266 - val_loss: 0.5589 - val_acc: 0.7930\n",
      "Epoch 40/50 - loss: 0.2885 - acc: 0.8318 - val_loss: 0.4915 - val_acc: 0.8095\n",
      "Epoch 41/50 - loss: 0.2858 - acc: 0.8337 - val_loss: 0.5022 - val_acc: 0.8116\n",
      "Epoch 42/50 - loss: 0.2911 - acc: 0.8331 - val_loss: 0.4747 - val_acc: 0.8131\n",
      "Epoch 43/50 - loss: 0.2706 - acc: 0.8413 - val_loss: 0.4167 - val_acc: 0.8391\n",
      "Epoch 44/50 - loss: 0.2643 - acc: 0.8417 - val_loss: 0.4090 - val_acc: 0.8466\n",
      "Epoch 45/50 - loss: 0.2688 - acc: 0.8435 - val_loss: 0.4099 - val_acc: 0.8466\n",
      "Epoch 46/50 - loss: 0.2592 - acc: 0.8463 - val_loss: 0.4020 - val_acc: 0.8475\n",
      "Epoch 47/50 - loss: 0.2610 - acc: 0.8466 - val_loss: 0.4290 - val_acc: 0.8361\n",
      "Epoch 48/50 - loss: 0.2497 - acc: 0.8496 - val_loss: 0.3900 - val_acc: 0.8507\n",
      "Epoch 49/50 - loss: 0.2503 - acc: 0.8525 - val_loss: 0.3994 - val_acc: 0.8515\n",
      "Epoch 50/50 - loss: 0.2543 - acc: 0.8487 - val_loss: 0.4264 - val_acc: 0.8425\n"
     ]
    }
   ],
   "source": [
    "history = model.fit(\n",
    "    datagen.flow(X_train, y_train, batch_size=BATCH_SIZE),\n",
    "    epochs=EPOCHS,\n",
    "    validation_data=(X_test, y_test),\n",
    "    callbacks=callbacks,\n",
    "    class_weight=class_weight_dict,\n",
    "    verbose=0\n",
    ")\n",
    "\n",
    "print(\"Training Progress:\")\n",
    "for epoch in range(len(history.history['loss'])):\n",
    "    train_loss = history.history['loss'][epoch]\n",
    "    train_acc = history.history['accuracy'][epoch]\n",
    "    val_loss = history.history['val_loss'][epoch]\n",
    "    val_acc = history.history['val_accuracy'][epoch]\n",
    "    print(f\"Epoch {epoch+1}/{EPOCHS} - loss: {train_loss:.4f} - acc: {train_acc:.4f} - val_loss: {val_loss:.4f} - val_acc: {val_acc:.4f}\")"
   ]
  },
  {
   "cell_type": "code",
   "execution_count": 10,
   "id": "1984a8bf",
   "metadata": {
    "_cell_guid": "0f0b8c2c-8e69-4a2e-93a4-be9612d798e1",
    "_uuid": "ce713148-c6a8-4d53-9d3d-8d96ba1fee54",
    "collapsed": false,
    "execution": {
     "iopub.execute_input": "2025-10-25T22:01:50.632607Z",
     "iopub.status.busy": "2025-10-25T22:01:50.632363Z",
     "iopub.status.idle": "2025-10-25T22:01:54.245149Z",
     "shell.execute_reply": "2025-10-25T22:01:54.244410Z"
    },
    "jupyter": {
     "outputs_hidden": false
    },
    "papermill": {
     "duration": 3.617555,
     "end_time": "2025-10-25T22:01:54.246498",
     "exception": false,
     "start_time": "2025-10-25T22:01:50.628943",
     "status": "completed"
    },
    "tags": []
   },
   "outputs": [
    {
     "name": "stdout",
     "output_type": "stream",
     "text": [
      "Test Accuracy: 0.8515\n",
      "Balanced Accuracy: 0.9074\n",
      "Macro F1: 0.8771\n",
      "Macro Precision: 0.8538\n",
      "Macro Recall: 0.9074\n"
     ]
    }
   ],
   "source": [
    "best_model = tf.keras.models.load_model('/kaggle/working/best_image_model.keras')\n",
    "y_pred = best_model.predict(X_test, verbose=0)\n",
    "y_pred_classes = np.argmax(y_pred, axis=1)\n",
    "y_true_classes = np.argmax(y_test, axis=1)\n",
    "\n",
    "test_accuracy = accuracy_score(y_true_classes, y_pred_classes)\n",
    "balanced_acc = balanced_accuracy_score(y_true_classes, y_pred_classes)\n",
    "macro_f1 = f1_score(y_true_classes, y_pred_classes, average='macro')\n",
    "macro_precision = precision_score(y_true_classes, y_pred_classes, average='macro')\n",
    "macro_recall = recall_score(y_true_classes, y_pred_classes, average='macro')\n",
    "\n",
    "print(f\"Test Accuracy: {test_accuracy:.4f}\")\n",
    "print(f\"Balanced Accuracy: {balanced_acc:.4f}\")\n",
    "print(f\"Macro F1: {macro_f1:.4f}\")\n",
    "print(f\"Macro Precision: {macro_precision:.4f}\")\n",
    "print(f\"Macro Recall: {macro_recall:.4f}\")"
   ]
  },
  {
   "cell_type": "code",
   "execution_count": 11,
   "id": "a013052f",
   "metadata": {
    "_cell_guid": "527eaf73-eafa-4632-bcdb-9080ae9d6f90",
    "_uuid": "2f106ba6-25ad-4a63-b945-738e827b8fa5",
    "collapsed": false,
    "execution": {
     "iopub.execute_input": "2025-10-25T22:01:54.254006Z",
     "iopub.status.busy": "2025-10-25T22:01:54.253437Z",
     "iopub.status.idle": "2025-10-25T22:01:54.763670Z",
     "shell.execute_reply": "2025-10-25T22:01:54.762960Z"
    },
    "jupyter": {
     "outputs_hidden": false
    },
    "papermill": {
     "duration": 0.515091,
     "end_time": "2025-10-25T22:01:54.764855",
     "exception": false,
     "start_time": "2025-10-25T22:01:54.249764",
     "status": "completed"
    },
    "tags": []
   },
   "outputs": [
    {
     "data": {
      "image/png": "[encoded data removed]",
      "text/plain": [
       "<Figure size 1000x800 with 2 Axes>"
      ]
     },
     "metadata": {},
     "output_type": "display_data"
    },
    {
     "data": {
      "image/png": "[encoded data removed]",
      "text/plain": [
       "<Figure size 1200x600 with 1 Axes>"
      ]
     },
     "metadata": {},
     "output_type": "display_data"
    }
   ],
   "source": [
    "lesion_names_short = ['nv', 'mel', 'bkl', 'bcc', 'akiec', 'vasc', 'df']\n",
    "\n",
    "cm = confusion_matrix(y_true_classes, y_pred_classes)\n",
    "plt.figure(figsize=(10, 8))\n",
    "sns.heatmap(cm, annot=True, fmt='d', cmap='Blues',\n",
    "            xticklabels=lesion_names_short,\n",
    "            yticklabels=lesion_names_short)\n",
    "plt.title('Confusion Matrix', fontsize=14, fontweight='bold')\n",
    "plt.ylabel('True Label')\n",
    "plt.xlabel('Predicted Label')\n",
    "plt.tight_layout()\n",
    "plt.show()\n",
    "\n",
    "class_accuracies = []\n",
    "for i in range(7):\n",
    "    class_mask = y_true_classes == i\n",
    "    if np.sum(class_mask) > 0:\n",
    "        class_acc = np.mean(y_pred_classes[class_mask] == y_true_classes[class_mask])\n",
    "        class_accuracies.append(class_acc)\n",
    "    else:\n",
    "        class_accuracies.append(0.0)\n",
    "\n",
    "plt.figure(figsize=(12, 6))\n",
    "bars = plt.bar(range(7), class_accuracies, color='skyblue', alpha=0.8)\n",
    "plt.title('Per-Class Accuracy', fontsize=14, fontweight='bold')\n",
    "plt.xlabel('Class')\n",
    "plt.ylabel('Accuracy')\n",
    "plt.xticks(range(7), lesion_names_short, rotation=45)\n",
    "plt.ylim(0, 1)\n",
    "\n",
    "for i, (bar, acc) in enumerate(zip(bars, class_accuracies)):\n",
    "    plt.text(bar.get_x() + bar.get_width()/2, bar.get_height() + 0.01, \n",
    "             f'{acc:.3f}', ha='center', va='bottom', fontweight='bold')\n",
    "\n",
    "plt.grid(axis='y', alpha=0.3)\n",
    "plt.tight_layout()\n",
    "plt.show()"
   ]
  },
  {
   "cell_type": "code",
   "execution_count": null,
   "id": "40a8a539",
   "metadata": {
    "_cell_guid": "c34bdb93-f866-42cc-8782-8fe7f80672d4",
    "_uuid": "fbc507d5-5f3c-4d30-863a-7fbb4a43361d",
    "collapsed": false,
    "execution": {
     "iopub.execute_input": "2025-10-25T22:01:54.774106Z",
     "iopub.status.busy": "2025-10-25T22:01:54.773884Z",
     "iopub.status.idle": "2025-10-25T22:01:55.377458Z",
     "shell.execute_reply": "2025-10-25T22:01:55.376622Z"
    },
    "jupyter": {
     "outputs_hidden": false
    },
    "papermill": {
     "duration": 0.60961,
     "end_time": "2025-10-25T22:01:55.378889",
     "exception": false,
     "start_time": "2025-10-25T22:01:54.769279",
     "status": "completed"
    },
    "tags": []
   },
   "outputs": [],
   "source": [
    "if hasattr(best_model, 'input') and best_model.input is not None:\n",
    "    model_input = best_model.input\n",
    "else:\n",
    "    model_input = best_model.layers[0].input\n",
    "\n",
    "feature_layer = None\n",
    "for layer in best_model.layers:\n",
    "    if isinstance(layer, MaxPool2D):\n",
    "        feature_layer = layer\n",
    "        if 'max_pooling2d_2' in layer.name:\n",
    "            break\n",
    "\n",
    "if feature_layer is None or 'max_pooling2d_2' not in feature_layer.name:\n",
    "    maxpool_layers = [layer for layer in best_model.layers if isinstance(layer, MaxPool2D)]\n",
    "    if len(maxpool_layers) >= 2:\n",
    "        feature_layer = maxpool_layers[1]\n",
    "    else:\n",
    "        feature_layer = maxpool_layers[0]\n",
    "\n",
    "image_feature_extractor = Model(\n",
    "    inputs=model_input,\n",
    "    outputs=feature_layer.output,\n",
    "    name='ImageFeatureExtractor'\n",
    ")\n",
    "image_feature_extractor.save('/kaggle/working/image_feature_extractor.keras')\n",
    "\n",
    "np.save('/kaggle/working/X_train.npy', X_train)\n",
    "np.save('/kaggle/working/X_test.npy', X_test)\n",
    "np.save('/kaggle/working/y_train.npy', y_train)\n",
    "np.save('/kaggle/working/y_test.npy', y_test)\n",
    "\n",
    "with open('/kaggle/working/class_weight_dict.pkl', 'wb') as f:\n",
    "    pickle.dump(class_weight_dict, f)\n",
    "\n",
    "df_skin.to_csv('/kaggle/working/metadata.csv', index=False)\n",
    "\n",
    "exp1_results = {\n",
    "    'test_accuracy': float(test_accuracy),\n",
    "    'balanced_accuracy': float(balanced_acc),\n",
    "    'confusion_matrix': cm,\n",
    "    'training_history': {\n",
    "        'loss': history.history['loss'],\n",
    "        'val_loss': history.history['val_loss'],\n",
    "        'acc': history.history['accuracy'],\n",
    "        'val_acc': history.history['val_accuracy']\n",
    "    },\n",
    "    'predictions': y_pred_classes\n",
    "}\n",
    "\n",
    "with open('/kaggle/working/exp1_results.pkl', 'wb') as f:\n",
    "    pickle.dump(exp1_results, f)"
   ]
  }
 ],
 "metadata": {
  "kaggle": {
   "accelerator": "none",
   "dataSources": [
    {
     "datasetId": 54339,
     "sourceId": 104884,
     "sourceType": "datasetVersion"
    }
   ],
   "dockerImageVersionId": 31154,
   "isGpuEnabled": false,
   "isInternetEnabled": true,
   "language": "python",
   "sourceType": "notebook"
  },
  "kernelspec": {
   "display_name": "Python 3",
   "language": "python",
   "name": "python3"
  },
  "language_info": {
   "codemirror_mode": {
    "name": "ipython",
    "version": 3
   },
   "file_extension": ".py",
   "mimetype": "text/x-python",
   "name": "python",
   "nbconvert_exporter": "python",
   "pygments_lexer": "ipython3",
   "version": "3.11.13"
  },
  "papermill": {
   "default_parameters": {},
   "duration": 2421.770278,
   "end_time": "2025-10-25T22:01:59.190142",
   "environment_variables": {},
   "exception": null,
   "input_path": "__notebook__.ipynb",
   "output_path": "__notebook__.ipynb",
   "parameters": {},
   "start_time": "2025-10-25T21:21:37.419864",
   "version": "2.6.0"
  }
 },
 "nbformat": 4,
 "nbformat_minor": 5
}
