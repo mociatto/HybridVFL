{
 "cells": [
  {
   "cell_type": "code",
   "execution_count": null,
   "id": "67e8ea70",
   "metadata": {
    "_cell_guid": "5fdc2f8b-0e42-4d59-b7ef-28c7f907eade",
    "_uuid": "06de7211-c90a-41f3-a220-3d4f17cbf64c",
    "collapsed": false,
    "execution": {
     "iopub.execute_input": "2025-10-25T22:25:19.715273Z",
     "iopub.status.busy": "2025-10-25T22:25:19.714462Z",
     "iopub.status.idle": "2025-10-25T22:25:35.958094Z",
     "shell.execute_reply": "2025-10-25T22:25:35.957389Z"
    },
    "jupyter": {
     "outputs_hidden": false
    },
    "papermill": {
     "duration": 16.249177,
     "end_time": "2025-10-25T22:25:35.959699",
     "exception": false,
     "start_time": "2025-10-25T22:25:19.710522",
     "status": "completed"
    },
    "tags": []
   },
   "outputs": [
    {
     "name": "stderr",
     "output_type": "stream",
     "text": [
      "2025-10-25 22:25:22.928336: E external/local_xla/xla/stream_executor/cuda/cuda_fft.cc:477] Unable to register cuFFT factory: Attempting to register factory for plugin cuFFT when one has already been registered\n",
      "WARNING: All log messages before absl::InitializeLog() is called are written to STDERR\n",
      "E0000 00:00:1761431123.120587      20 cuda_dnn.cc:8310] Unable to register cuDNN factory: Attempting to register factory for plugin cuDNN when one has already been registered\n",
      "E0000 00:00:1761431123.177812      20 cuda_blas.cc:1418] Unable to register cuBLAS factory: Attempting to register factory for plugin cuBLAS when one has already been registered\n"
     ]
    }
   ],
   "source": [
    "import numpy as np\n",
    "import pandas as pd\n",
    "import matplotlib.pyplot as plt\n",
    "import tensorflow as tf\n",
    "from tensorflow.keras.models import Model, load_model\n",
    "from tensorflow.keras.layers import Input, Concatenate, Dense, Dropout\n",
    "from tensorflow.keras.optimizers import Adam\n",
    "from sklearn.preprocessing import StandardScaler\n",
    "from sklearn.metrics import balanced_accuracy_score, confusion_matrix, accuracy_score, precision_score, recall_score, f1_score\n",
    "import seaborn as sns\n",
    "import pickle\n",
    "import time\n",
    "import warnings\n",
    "\n",
    "RANDOM_STATE = 42\n",
    "np.random.seed(RANDOM_STATE)\n",
    "tf.random.set_seed(RANDOM_STATE)\n",
    "warnings.filterwarnings('ignore')"
   ]
  },
  {
   "cell_type": "code",
   "execution_count": 2,
   "id": "258cba62",
   "metadata": {
    "_cell_guid": "26a688de-30b2-41b9-ae3d-c3fa4538d2ec",
    "_uuid": "3af85d3d-3653-4f45-a5d7-538c0ac6ea10",
    "collapsed": false,
    "execution": {
     "iopub.execute_input": "2025-10-25T22:25:35.966108Z",
     "iopub.status.busy": "2025-10-25T22:25:35.965654Z",
     "iopub.status.idle": "2025-10-25T22:25:45.216332Z",
     "shell.execute_reply": "2025-10-25T22:25:45.215664Z"
    },
    "jupyter": {
     "outputs_hidden": false
    },
    "papermill": {
     "duration": 9.255196,
     "end_time": "2025-10-25T22:25:45.217854",
     "exception": false,
     "start_time": "2025-10-25T22:25:35.962658",
     "status": "completed"
    },
    "tags": []
   },
   "outputs": [
    {
     "name": "stdout",
     "output_type": "stream",
     "text": [
      "Exp1 dataset exists: True\n",
      "Exp2 dataset exists: True\n",
      "Exp2 contents: ['exp1_2_results.pkl', 'tabular_scaler.pkl', 'train_tabular_features.npy', 'test_tabular_features.npy', 'best_multimodal_model.keras', 'exp2_results.pkl']\n"
     ]
    },
    {
     "name": "stderr",
     "output_type": "stream",
     "text": [
      "I0000 00:00:1761431136.769795      20 gpu_device.cc:2022] Created device /job:localhost/replica:0/task:0/device:GPU:0 with 15513 MB memory:  -> device: 0, name: Tesla P100-PCIE-16GB, pci bus id: 0000:00:04.0, compute capability: 6.0\n"
     ]
    }
   ],
   "source": [
    "BASE_PATH_EXP1 = '/kaggle/input/hybridvfl-exp-1/'\n",
    "BASE_PATH_EXP2 = '/kaggle/input/hybridvfl-exp-2/'\n",
    "\n",
    "# Debug: Check if datasets exist\n",
    "import os\n",
    "print(f\"Exp1 dataset exists: {os.path.exists(BASE_PATH_EXP1)}\")\n",
    "print(f\"Exp2 dataset exists: {os.path.exists(BASE_PATH_EXP2)}\")\n",
    "\n",
    "if os.path.exists(BASE_PATH_EXP2):\n",
    "    print(f\"Exp2 contents: {os.listdir(BASE_PATH_EXP2)}\")\n",
    "else:\n",
    "    print(\"Exp2 dataset not found. Please ensure hybridvfl-exp-2 dataset is added to this notebook.\")\n",
    "\n",
    "image_model = load_model(BASE_PATH_EXP1 + 'best_image_model.keras')\n",
    "\n",
    "X_train = np.load(BASE_PATH_EXP1 + 'X_train.npy')\n",
    "X_test = np.load(BASE_PATH_EXP1 + 'X_test.npy')\n",
    "y_train = np.load(BASE_PATH_EXP1 + 'y_train.npy')\n",
    "y_test = np.load(BASE_PATH_EXP1 + 'y_test.npy')\n",
    "\n",
    "train_tabular_features = np.load(BASE_PATH_EXP2 + 'train_tabular_features.npy')\n",
    "test_tabular_features = np.load(BASE_PATH_EXP2 + 'test_tabular_features.npy')\n",
    "\n",
    "with open(BASE_PATH_EXP1 + 'class_weight_dict.pkl', 'rb') as f:\n",
    "    class_weight_dict = pickle.load(f)\n",
    "\n",
    "with open(BASE_PATH_EXP2 + 'exp1_2_results.pkl', 'rb') as f:\n",
    "    prev_results = pickle.load(f)"
   ]
  },
  {
   "cell_type": "code",
   "execution_count": 3,
   "id": "1337371f",
   "metadata": {
    "_cell_guid": "f4ad572d-2625-4ebe-b367-86295103e229",
    "_uuid": "ee11a1e8-8c39-413f-aaa4-2a79b98896e6",
    "collapsed": false,
    "execution": {
     "iopub.execute_input": "2025-10-25T22:25:45.224574Z",
     "iopub.status.busy": "2025-10-25T22:25:45.223863Z",
     "iopub.status.idle": "2025-10-25T22:25:45.232033Z",
     "shell.execute_reply": "2025-10-25T22:25:45.231225Z"
    },
    "jupyter": {
     "outputs_hidden": false
    },
    "papermill": {
     "duration": 0.012642,
     "end_time": "2025-10-25T22:25:45.233343",
     "exception": false,
     "start_time": "2025-10-25T22:25:45.220701",
     "status": "completed"
    },
    "tags": []
   },
   "outputs": [],
   "source": [
    "if hasattr(image_model, 'input') and image_model.input is not None:\n",
    "    model_input = image_model.input\n",
    "else:\n",
    "    model_input = image_model.layers[0].input\n",
    "\n",
    "feature_layer = None\n",
    "for layer in image_model.layers:\n",
    "    if isinstance(layer, tf.keras.layers.MaxPooling2D):\n",
    "        feature_layer = layer\n",
    "        if 'max_pooling2d_2' in layer.name:\n",
    "            break\n",
    "\n",
    "if feature_layer is None or 'max_pooling2d_2' not in feature_layer.name:\n",
    "    maxpool_layers = [layer for layer in image_model.layers if isinstance(layer, tf.keras.layers.MaxPooling2D)]\n",
    "    if len(maxpool_layers) >= 2:\n",
    "        feature_layer = maxpool_layers[1]\n",
    "    else:\n",
    "        feature_layer = maxpool_layers[0]\n",
    "\n",
    "image_client_model = Model(\n",
    "    inputs=model_input,\n",
    "    outputs=feature_layer.output,\n",
    "    name='ImageClient'\n",
    ")\n",
    "\n",
    "for layer in image_client_model.layers[:-2]:\n",
    "    layer.trainable = False"
   ]
  },
  {
   "cell_type": "code",
   "execution_count": 4,
   "id": "5dc97b5d",
   "metadata": {
    "_cell_guid": "acaf50a3-db4a-4ed8-a64d-be936d328009",
    "_uuid": "83355500-b985-4b0c-93c3-6c98470626ad",
    "collapsed": false,
    "execution": {
     "iopub.execute_input": "2025-10-25T22:25:45.238852Z",
     "iopub.status.busy": "2025-10-25T22:25:45.238600Z",
     "iopub.status.idle": "2025-10-25T22:25:45.265508Z",
     "shell.execute_reply": "2025-10-25T22:25:45.264740Z"
    },
    "jupyter": {
     "outputs_hidden": false
    },
    "papermill": {
     "duration": 0.031092,
     "end_time": "2025-10-25T22:25:45.266893",
     "exception": false,
     "start_time": "2025-10-25T22:25:45.235801",
     "status": "completed"
    },
    "tags": []
   },
   "outputs": [],
   "source": [
    "tabular_input = Input(shape=(train_tabular_features.shape[1],), name='tabular_input')\n",
    "x_tab = Dense(64, activation='relu', name='tabular_dense1')(tabular_input)\n",
    "x_tab = Dropout(0.3, name='tabular_dropout1')(x_tab)\n",
    "tabular_output = Dense(32, activation='relu', name='tabular_dense2')(x_tab)\n",
    "\n",
    "tabular_client_model = Model(\n",
    "    inputs=tabular_input,\n",
    "    outputs=tabular_output,\n",
    "    name='TabularClient'\n",
    ")"
   ]
  },
  {
   "cell_type": "code",
   "execution_count": 5,
   "id": "8edd04d6",
   "metadata": {
    "_cell_guid": "d27a9dfb-d9ea-463d-815c-2e269ad50d90",
    "_uuid": "c0882358-1f33-4014-bbb6-d06dad85f2bb",
    "collapsed": false,
    "execution": {
     "iopub.execute_input": "2025-10-25T22:25:45.273129Z",
     "iopub.status.busy": "2025-10-25T22:25:45.272883Z",
     "iopub.status.idle": "2025-10-25T22:25:45.318851Z",
     "shell.execute_reply": "2025-10-25T22:25:45.318018Z"
    },
    "jupyter": {
     "outputs_hidden": false
    },
    "papermill": {
     "duration": 0.050786,
     "end_time": "2025-10-25T22:25:45.320285",
     "exception": false,
     "start_time": "2025-10-25T22:25:45.269499",
     "status": "completed"
    },
    "tags": []
   },
   "outputs": [],
   "source": [
    "image_embedding_input = Input(shape=(np.prod(image_client_model.output_shape[1:]),), name='server_image_input')\n",
    "tabular_embedding_input = Input(shape=(tabular_client_model.output_shape[1],), name='server_tabular_input')\n",
    "\n",
    "concat_embeddings = Concatenate(name='server_concat')([image_embedding_input, tabular_embedding_input])\n",
    "\n",
    "x_server = Dense(64, activation='relu', name='server_fc1')(concat_embeddings)\n",
    "x_server = Dropout(0.7, name='server_dropout1')(x_server)\n",
    "x_server = Dense(32, activation='relu', name='server_fc2')(x_server)\n",
    "x_server = Dropout(0.6, name='server_dropout2')(x_server)\n",
    "server_output = Dense(7, activation='softmax', name='server_output')(x_server)\n",
    "\n",
    "server_model = Model(\n",
    "    inputs=[image_embedding_input, tabular_embedding_input],\n",
    "    outputs=server_output,\n",
    "    name='ServerModel'\n",
    ")\n",
    "\n",
    "optimizer_image = Adam(learning_rate=0.00005)\n",
    "optimizer_tabular = Adam(learning_rate=0.00005)\n",
    "optimizer_server = Adam(learning_rate=0.00005)\n",
    "\n",
    "server_model.compile(\n",
    "    optimizer=optimizer_server,\n",
    "    loss='categorical_crossentropy',\n",
    "    metrics=['accuracy']\n",
    ")"
   ]
  },
  {
   "cell_type": "code",
   "execution_count": 6,
   "id": "7144fc27",
   "metadata": {
    "_cell_guid": "bffb83e9-5dc1-4b3a-bdc1-8f30ef0104c0",
    "_uuid": "111c4efd-1dfd-417e-a726-051f15c40c1c",
    "collapsed": false,
    "execution": {
     "iopub.execute_input": "2025-10-25T22:25:45.326276Z",
     "iopub.status.busy": "2025-10-25T22:25:45.326066Z",
     "iopub.status.idle": "2025-10-25T23:19:39.193535Z",
     "shell.execute_reply": "2025-10-25T23:19:39.192571Z"
    },
    "jupyter": {
     "outputs_hidden": false
    },
    "papermill": {
     "duration": 3233.876408,
     "end_time": "2025-10-25T23:19:39.199185",
     "exception": false,
     "start_time": "2025-10-25T22:25:45.322777",
     "status": "completed"
    },
    "tags": []
   },
   "outputs": [
    {
     "name": "stdout",
     "output_type": "stream",
     "text": [
      "Training Progress:\n"
     ]
    },
    {
     "name": "stderr",
     "output_type": "stream",
     "text": [
      "I0000 00:00:1761431145.436230      20 cuda_dnn.cc:529] Loaded cuDNN version 90300\n",
      "WARNING: All log messages before absl::InitializeLog() is called are written to STDERR\n",
      "I0000 00:00:1761431210.818229      58 service.cc:148] XLA service 0x7dce28002d10 initialized for platform CUDA (this does not guarantee that XLA will be used). Devices:\n",
      "I0000 00:00:1761431210.818929      58 service.cc:156]   StreamExecutor device (0): Tesla P100-PCIE-16GB, Compute Capability 6.0\n",
      "I0000 00:00:1761431211.541853      58 device_compiler.h:188] Compiled cluster using XLA!  This line is logged at most once for the lifetime of the process.\n"
     ]
    },
    {
     "name": "stdout",
     "output_type": "stream",
     "text": [
      "Epoch 1/50 - loss: 2.3796 - acc: 0.1611 - val_loss: 1.8710 - val_acc: 0.2801\n",
      "Epoch 2/50 - loss: 1.9315 - acc: 0.1996 - val_loss: 1.8436 - val_acc: 0.3350\n",
      "Epoch 3/50 - loss: 1.8735 - acc: 0.2566 - val_loss: 1.7905 - val_acc: 0.4397\n",
      "Epoch 4/50 - loss: 1.8177 - acc: 0.3118 - val_loss: 1.7267 - val_acc: 0.4504\n",
      "Epoch 5/50 - loss: 1.7653 - acc: 0.3205 - val_loss: 1.6686 - val_acc: 0.4668\n",
      "Epoch 6/50 - loss: 1.7154 - acc: 0.3385 - val_loss: 1.6163 - val_acc: 0.4952\n",
      "Epoch 7/50 - loss: 1.6630 - acc: 0.3587 - val_loss: 1.5521 - val_acc: 0.5174\n",
      "Epoch 8/50 - loss: 1.6133 - acc: 0.3746 - val_loss: 1.4960 - val_acc: 0.5174\n",
      "Epoch 9/50 - loss: 1.5536 - acc: 0.3940 - val_loss: 1.4090 - val_acc: 0.5381\n",
      "Epoch 10/50 - loss: 1.5159 - acc: 0.4089 - val_loss: 1.3664 - val_acc: 0.5567\n",
      "Epoch 11/50 - loss: 1.4737 - acc: 0.4215 - val_loss: 1.3180 - val_acc: 0.5863\n",
      "Epoch 12/50 - loss: 1.4283 - acc: 0.4355 - val_loss: 1.2894 - val_acc: 0.6083\n",
      "Epoch 13/50 - loss: 1.3954 - acc: 0.4471 - val_loss: 1.2451 - val_acc: 0.6219\n",
      "Epoch 14/50 - loss: 1.3588 - acc: 0.4573 - val_loss: 1.2246 - val_acc: 0.6162\n",
      "Epoch 15/50 - loss: 1.3184 - acc: 0.4633 - val_loss: 1.1988 - val_acc: 0.6270\n",
      "Epoch 16/50 - loss: 1.2981 - acc: 0.4708 - val_loss: 1.1831 - val_acc: 0.6430\n",
      "Epoch 17/50 - loss: 1.2662 - acc: 0.4750 - val_loss: 1.1292 - val_acc: 0.6509\n",
      "Epoch 18/50 - loss: 1.2461 - acc: 0.4853 - val_loss: 1.1105 - val_acc: 0.6558\n",
      "Epoch 19/50 - loss: 1.2146 - acc: 0.4854 - val_loss: 1.0954 - val_acc: 0.6606\n",
      "Epoch 20/50 - loss: 1.1893 - acc: 0.4933 - val_loss: 1.0765 - val_acc: 0.6618\n",
      "Epoch 21/50 - loss: 1.1667 - acc: 0.4969 - val_loss: 1.0661 - val_acc: 0.6667\n",
      "Epoch 22/50 - loss: 1.1548 - acc: 0.5042 - val_loss: 1.0372 - val_acc: 0.6691\n",
      "Epoch 23/50 - loss: 1.1338 - acc: 0.5093 - val_loss: 1.0182 - val_acc: 0.6742\n",
      "Epoch 24/50 - loss: 1.1053 - acc: 0.5207 - val_loss: 0.9983 - val_acc: 0.6881\n",
      "Epoch 25/50 - loss: 1.0974 - acc: 0.5247 - val_loss: 0.9783 - val_acc: 0.6864\n",
      "Epoch 26/50 - loss: 1.0904 - acc: 0.5271 - val_loss: 0.9835 - val_acc: 0.6862\n",
      "Epoch 27/50 - loss: 1.0771 - acc: 0.5314 - val_loss: 0.9634 - val_acc: 0.6864\n",
      "Epoch 28/50 - loss: 1.0534 - acc: 0.5387 - val_loss: 0.9684 - val_acc: 0.6861\n",
      "Epoch 29/50 - loss: 1.0550 - acc: 0.5386 - val_loss: 0.9640 - val_acc: 0.6861\n",
      "Epoch 30/50 - loss: 1.0560 - acc: 0.5412 - val_loss: 0.9604 - val_acc: 0.6936\n",
      "Epoch 31/50 - loss: 1.0470 - acc: 0.5431 - val_loss: 0.9532 - val_acc: 0.6925\n",
      "Epoch 32/50 - loss: 1.0504 - acc: 0.5396 - val_loss: 0.9512 - val_acc: 0.6928\n",
      "Epoch 33/50 - loss: 1.0309 - acc: 0.5457 - val_loss: 0.9419 - val_acc: 0.6949\n",
      "Epoch 34/50 - loss: 1.0316 - acc: 0.5449 - val_loss: 0.9486 - val_acc: 0.6940\n",
      "Epoch 35/50 - loss: 1.0500 - acc: 0.5413 - val_loss: 0.9444 - val_acc: 0.6934\n",
      "Epoch 36/50 - loss: 1.0339 - acc: 0.5528 - val_loss: 0.9435 - val_acc: 0.6951\n",
      "Epoch 37/50 - loss: 1.0371 - acc: 0.5469 - val_loss: 0.9427 - val_acc: 0.6943\n",
      "Epoch 38/50 - loss: 1.0256 - acc: 0.5491 - val_loss: 0.9434 - val_acc: 0.6947\n",
      "Epoch 39/50 - loss: 1.0323 - acc: 0.5484 - val_loss: 0.9446 - val_acc: 0.6951\n",
      "Epoch 40/50 - loss: 1.0368 - acc: 0.5476 - val_loss: 0.9415 - val_acc: 0.6947\n",
      "Epoch 41/50 - loss: 1.0337 - acc: 0.5483 - val_loss: 0.9412 - val_acc: 0.6970\n",
      "Epoch 42/50 - loss: 1.0396 - acc: 0.5507 - val_loss: 0.9412 - val_acc: 0.6955\n",
      "Epoch 43/50 - loss: 1.0309 - acc: 0.5474 - val_loss: 0.9436 - val_acc: 0.6951\n",
      "Epoch 44/50 - loss: 1.0270 - acc: 0.5422 - val_loss: 0.9402 - val_acc: 0.6964\n",
      "Epoch 45/50 - loss: 1.0490 - acc: 0.5448 - val_loss: 0.9412 - val_acc: 0.6951\n",
      "Epoch 46/50 - loss: 1.0423 - acc: 0.5461 - val_loss: 0.9417 - val_acc: 0.6958\n",
      "Epoch 47/50 - loss: 1.0238 - acc: 0.5524 - val_loss: 0.9401 - val_acc: 0.6962\n",
      "Epoch 48/50 - loss: 1.0269 - acc: 0.5522 - val_loss: 0.9420 - val_acc: 0.6943\n",
      "Epoch 49/50 - loss: 1.0297 - acc: 0.5503 - val_loss: 0.9383 - val_acc: 0.6970\n",
      "Epoch 50/50 - loss: 1.0308 - acc: 0.5487 - val_loss: 0.9402 - val_acc: 0.6960\n"
     ]
    }
   ],
   "source": [
    "VFL_EPOCHS = 50\n",
    "VFL_BATCH_SIZE = 32\n",
    "\n",
    "num_train_samples = len(X_train)\n",
    "num_batches = num_train_samples // VFL_BATCH_SIZE\n",
    "\n",
    "vfl3_train_loss_history = []\n",
    "vfl3_train_acc_history = []\n",
    "vfl3_val_loss_history = []\n",
    "vfl3_val_acc_history = []\n",
    "vfl3_comm_costs_upload = []\n",
    "vfl3_comm_costs_download = []\n",
    "\n",
    "best_val_acc = 0\n",
    "patience_counter = 0\n",
    "EARLY_STOP_PATIENCE = 15\n",
    "best_weights = None\n",
    "\n",
    "lr_patience_counter = 0\n",
    "LR_REDUCE_PATIENCE = 2\n",
    "current_lr = 0.00005\n",
    "LR_REDUCE_FACTOR = 0.5\n",
    "MIN_LR = 1e-7\n",
    "\n",
    "vfl3_start_time = time.time()\n",
    "\n",
    "print(\"Training Progress:\")\n",
    "for epoch in range(VFL_EPOCHS):\n",
    "    epoch_start = time.time()\n",
    "    epoch_loss = 0\n",
    "    epoch_acc = 0\n",
    "    epoch_upload_cost = 0\n",
    "    epoch_download_cost = 0\n",
    "    \n",
    "    indices = np.random.permutation(num_train_samples)\n",
    "    \n",
    "    for batch_idx in range(num_batches):\n",
    "        batch_start = batch_idx * VFL_BATCH_SIZE\n",
    "        batch_end = batch_start + VFL_BATCH_SIZE\n",
    "        batch_indices = indices[batch_start:batch_end]\n",
    "        \n",
    "        X_batch = X_train[batch_indices]\n",
    "        y_batch = y_train[batch_indices]\n",
    "        X_tab_batch = train_tabular_features[batch_indices]\n",
    "        \n",
    "        with tf.GradientTape(persistent=True) as client_tape:\n",
    "            image_embeddings = image_client_model(X_batch, training=True)\n",
    "            image_embeddings_flat = tf.reshape(image_embeddings, [VFL_BATCH_SIZE, -1])\n",
    "            tabular_embeddings = tabular_client_model(X_tab_batch, training=True)\n",
    "        \n",
    "        upload_cost = (image_embeddings_flat.numpy().nbytes + tabular_embeddings.numpy().nbytes) / (1024 * 1024)\n",
    "        epoch_upload_cost += upload_cost\n",
    "        \n",
    "        with tf.GradientTape(persistent=True) as server_tape:\n",
    "            predictions = server_model([image_embeddings_flat, tabular_embeddings], training=True)\n",
    "            sample_weights = np.array([class_weight_dict[np.argmax(y)] for y in y_batch])\n",
    "            loss = tf.keras.losses.categorical_crossentropy(y_batch, predictions)\n",
    "            loss = tf.reduce_mean(loss * sample_weights)\n",
    "        \n",
    "        server_grads = server_tape.gradient(loss, server_model.trainable_variables)\n",
    "        optimizer_server.apply_gradients(zip(server_grads, server_model.trainable_variables))\n",
    "        \n",
    "        grad_image_input = server_tape.gradient(loss, image_embeddings_flat)\n",
    "        grad_tabular_input = server_tape.gradient(loss, tabular_embeddings)\n",
    "        \n",
    "        del server_tape\n",
    "        \n",
    "        download_size = 0\n",
    "        if grad_image_input is not None:\n",
    "            download_size += grad_image_input.numpy().nbytes\n",
    "        if grad_tabular_input is not None:\n",
    "            download_size += grad_tabular_input.numpy().nbytes\n",
    "        download_cost = download_size / (1024 * 1024)\n",
    "        epoch_download_cost += download_cost\n",
    "        \n",
    "        if grad_image_input is not None:\n",
    "            image_grads = client_tape.gradient(image_embeddings_flat, image_client_model.trainable_variables,\n",
    "                                               output_gradients=grad_image_input)\n",
    "            if image_grads and any(g is not None for g in image_grads):\n",
    "                optimizer_image.apply_gradients(zip([g for g in image_grads if g is not None],\n",
    "                                                    [v for v, g in zip(image_client_model.trainable_variables, image_grads) if g is not None]))\n",
    "        \n",
    "        if grad_tabular_input is not None:\n",
    "            tabular_grads = client_tape.gradient(tabular_embeddings, tabular_client_model.trainable_variables,\n",
    "                                                 output_gradients=grad_tabular_input)\n",
    "            if tabular_grads and any(g is not None for g in tabular_grads):\n",
    "                optimizer_tabular.apply_gradients(zip([g for g in tabular_grads if g is not None],\n",
    "                                                      [v for v, g in zip(tabular_client_model.trainable_variables, tabular_grads) if g is not None]))\n",
    "        \n",
    "        del client_tape\n",
    "        \n",
    "        epoch_loss += loss.numpy()\n",
    "        batch_acc = np.mean(np.argmax(predictions.numpy(), axis=1) == np.argmax(y_batch, axis=1))\n",
    "        epoch_acc += batch_acc\n",
    "    \n",
    "    avg_loss = epoch_loss / num_batches\n",
    "    avg_acc = epoch_acc / num_batches\n",
    "    \n",
    "    val_image_emb = image_client_model.predict(X_test, verbose=0)\n",
    "    val_image_emb_flat = val_image_emb.reshape(len(X_test), -1)\n",
    "    val_tabular_emb = tabular_client_model.predict(test_tabular_features, verbose=0)\n",
    "    val_predictions = server_model.predict([val_image_emb_flat, val_tabular_emb], verbose=0)\n",
    "    val_loss = tf.keras.losses.categorical_crossentropy(y_test, val_predictions).numpy().mean()\n",
    "    val_acc = np.mean(np.argmax(val_predictions, axis=1) == np.argmax(y_test, axis=1))\n",
    "    \n",
    "    vfl3_train_loss_history.append(avg_loss)\n",
    "    vfl3_train_acc_history.append(avg_acc)\n",
    "    vfl3_val_loss_history.append(val_loss)\n",
    "    vfl3_val_acc_history.append(val_acc)\n",
    "    vfl3_comm_costs_upload.append(epoch_upload_cost)\n",
    "    vfl3_comm_costs_download.append(epoch_download_cost)\n",
    "    \n",
    "    # Print epoch progress\n",
    "    print(f\"Epoch {epoch+1}/{VFL_EPOCHS} - loss: {avg_loss:.4f} - acc: {avg_acc:.4f} - val_loss: {val_loss:.4f} - val_acc: {val_acc:.4f}\")\n",
    "    \n",
    "    if val_acc > best_val_acc:\n",
    "        best_val_acc = val_acc\n",
    "        patience_counter = 0\n",
    "        lr_patience_counter = 0\n",
    "        best_weights = [w.numpy() for w in server_model.weights]\n",
    "        best_img_weights = [w.numpy() for w in image_client_model.weights]\n",
    "        best_tab_weights = [w.numpy() for w in tabular_client_model.weights]\n",
    "    else:\n",
    "        patience_counter += 1\n",
    "        lr_patience_counter += 1\n",
    "        \n",
    "        if lr_patience_counter >= LR_REDUCE_PATIENCE and current_lr > MIN_LR:\n",
    "            current_lr = max(current_lr * LR_REDUCE_FACTOR, MIN_LR)\n",
    "            optimizer_server.learning_rate.assign(current_lr)\n",
    "            optimizer_image.learning_rate.assign(current_lr)\n",
    "            optimizer_tabular.learning_rate.assign(current_lr)\n",
    "            lr_patience_counter = 0\n",
    "    \n",
    "    if patience_counter >= EARLY_STOP_PATIENCE:\n",
    "        if best_weights is not None:\n",
    "            for w, best_w in zip(server_model.weights, best_weights):\n",
    "                w.assign(best_w)\n",
    "            for w, best_w in zip(image_client_model.weights, best_img_weights):\n",
    "                w.assign(best_w)\n",
    "            for w, best_w in zip(tabular_client_model.weights, best_tab_weights):\n",
    "                w.assign(best_w)\n",
    "        break\n",
    "\n",
    "vfl3_total_time = time.time() - vfl3_start_time\n",
    "\n",
    "image_client_model.save('/kaggle/working/exp3_image_client.keras')\n",
    "tabular_client_model.save('/kaggle/working/exp3_tabular_client.keras')\n",
    "server_model.save('/kaggle/working/exp3_server.keras')"
   ]
  },
  {
   "cell_type": "code",
   "execution_count": 7,
   "id": "b1be51d1",
   "metadata": {
    "_cell_guid": "b441dbd5-f6e6-4c9f-bb98-9189a91fc101",
    "_uuid": "482a0e54-5b0d-4e13-b861-113e0ae5ac95",
    "collapsed": false,
    "execution": {
     "iopub.execute_input": "2025-10-25T23:19:39.209444Z",
     "iopub.status.busy": "2025-10-25T23:19:39.209249Z",
     "iopub.status.idle": "2025-10-25T23:19:40.953181Z",
     "shell.execute_reply": "2025-10-25T23:19:40.952222Z"
    },
    "jupyter": {
     "outputs_hidden": false
    },
    "papermill": {
     "duration": 1.750461,
     "end_time": "2025-10-25T23:19:40.954520",
     "exception": false,
     "start_time": "2025-10-25T23:19:39.204059",
     "status": "completed"
    },
    "tags": []
   },
   "outputs": [
    {
     "name": "stdout",
     "output_type": "stream",
     "text": [
      "Test Accuracy: 0.6960\n",
      "Balanced Accuracy: 0.7766\n",
      "Macro F1: 0.7318\n",
      "Macro Precision: 0.7123\n",
      "Macro Recall: 0.7766\n"
     ]
    }
   ],
   "source": [
    "test_image_emb = image_client_model.predict(X_test, verbose=0)\n",
    "test_image_emb_flat = test_image_emb.reshape(len(X_test), -1)\n",
    "test_tabular_emb = tabular_client_model.predict(test_tabular_features, verbose=0)\n",
    "test_predictions = server_model.predict([test_image_emb_flat, test_tabular_emb], verbose=0)\n",
    "\n",
    "y_pred = np.argmax(test_predictions, axis=1)\n",
    "y_true = np.argmax(y_test, axis=1)\n",
    "\n",
    "test_acc = accuracy_score(y_true, y_pred)\n",
    "balanced_acc = balanced_accuracy_score(y_true, y_pred)\n",
    "macro_f1 = f1_score(y_true, y_pred, average='macro')\n",
    "macro_precision = precision_score(y_true, y_pred, average='macro')\n",
    "macro_recall = recall_score(y_true, y_pred, average='macro')\n",
    "\n",
    "print(f\"Test Accuracy: {test_acc:.4f}\")\n",
    "print(f\"Balanced Accuracy: {balanced_acc:.4f}\")\n",
    "print(f\"Macro F1: {macro_f1:.4f}\")\n",
    "print(f\"Macro Precision: {macro_precision:.4f}\")\n",
    "print(f\"Macro Recall: {macro_recall:.4f}\")"
   ]
  },
  {
   "cell_type": "code",
   "execution_count": 8,
   "id": "e5d23f6b",
   "metadata": {
    "_cell_guid": "6a27eadf-30da-4c61-9b62-168e08071208",
    "_uuid": "25ff9b34-f706-4e54-89d3-50d0bb70057d",
    "collapsed": false,
    "execution": {
     "iopub.execute_input": "2025-10-25T23:19:40.964715Z",
     "iopub.status.busy": "2025-10-25T23:19:40.964511Z",
     "iopub.status.idle": "2025-10-25T23:19:42.590152Z",
     "shell.execute_reply": "2025-10-25T23:19:42.589415Z"
    },
    "jupyter": {
     "outputs_hidden": false
    },
    "papermill": {
     "duration": 1.632058,
     "end_time": "2025-10-25T23:19:42.591502",
     "exception": false,
     "start_time": "2025-10-25T23:19:40.959444",
     "status": "completed"
    },
    "tags": []
   },
   "outputs": [
    {
     "data": {
      "image/png": "[encoded data removed]",
      "text/plain": [
       "<Figure size 1000x800 with 2 Axes>"
      ]
     },
     "metadata": {},
     "output_type": "display_data"
    },
    {
     "data": {
      "image/png": "[encoded data removed]",
      "text/plain": [
       "<Figure size 1200x600 with 1 Axes>"
      ]
     },
     "metadata": {},
     "output_type": "display_data"
    }
   ],
   "source": [
    "lesion_types = ['nv', 'mel', 'bkl', 'bcc', 'akiec', 'vasc', 'df']\n",
    "\n",
    "cm = confusion_matrix(y_true, y_pred)\n",
    "plt.figure(figsize=(10, 8))\n",
    "sns.heatmap(cm, annot=True, fmt='d', cmap='Blues',\n",
    "            xticklabels=lesion_types, yticklabels=lesion_types)\n",
    "plt.title('Confusion Matrix', fontsize=14, fontweight='bold')\n",
    "plt.ylabel('True Label')\n",
    "plt.xlabel('Predicted Label')\n",
    "plt.tight_layout()\n",
    "plt.savefig('/kaggle/working/exp3_confusion_matrix.png', dpi=300, bbox_inches='tight')\n",
    "plt.show()\n",
    "\n",
    "per_class_acc = cm.diagonal() / cm.sum(axis=1)\n",
    "plt.figure(figsize=(12, 6))\n",
    "bars = plt.bar(lesion_types, per_class_acc, color='steelblue', alpha=0.7)\n",
    "plt.axhline(y=balanced_acc, color='red', linestyle='--', linewidth=2,\n",
    "            label=f'Balanced Acc: {balanced_acc:.3f}')\n",
    "plt.xlabel('Lesion Type', fontsize=12)\n",
    "plt.ylabel('Accuracy', fontsize=12)\n",
    "plt.title('Per-Class Accuracy', fontsize=14, fontweight='bold')\n",
    "plt.ylim([0, 1])\n",
    "plt.legend()\n",
    "plt.grid(axis='y', alpha=0.3)\n",
    "for bar, acc in zip(bars, per_class_acc):\n",
    "    height = bar.get_height()\n",
    "    plt.text(bar.get_x() + bar.get_width()/2., height + 0.02, f'{acc:.3f}',\n",
    "             ha='center', va='bottom', fontsize=10)\n",
    "plt.tight_layout()\n",
    "plt.savefig('/kaggle/working/exp3_per_class_accuracy.png', dpi=300, bbox_inches='tight')\n",
    "plt.show()"
   ]
  },
  {
   "cell_type": "code",
   "execution_count": 9,
   "id": "a73b03f3",
   "metadata": {
    "_cell_guid": "47b43bfd-f968-4ca4-863f-0469fc9e7535",
    "_uuid": "8596603b-3a47-4c73-8235-10fb206a87f8",
    "collapsed": false,
    "execution": {
     "iopub.execute_input": "2025-10-25T23:19:42.605820Z",
     "iopub.status.busy": "2025-10-25T23:19:42.605178Z",
     "iopub.status.idle": "2025-10-25T23:19:42.610709Z",
     "shell.execute_reply": "2025-10-25T23:19:42.610180Z"
    },
    "jupyter": {
     "outputs_hidden": false
    },
    "papermill": {
     "duration": 0.013053,
     "end_time": "2025-10-25T23:19:42.611751",
     "exception": false,
     "start_time": "2025-10-25T23:19:42.598698",
     "status": "completed"
    },
    "tags": []
   },
   "outputs": [],
   "source": [
    "exp3_results = {\n",
    "    'test_accuracy': float(test_acc),\n",
    "    'balanced_accuracy': float(balanced_acc),\n",
    "    'confusion_matrix': cm,\n",
    "    'training_history': {\n",
    "        'loss': vfl3_train_loss_history,\n",
    "        'acc': vfl3_train_acc_history,\n",
    "        'val_loss': vfl3_val_loss_history,\n",
    "        'val_acc': vfl3_val_acc_history,\n",
    "        'comm_upload': vfl3_comm_costs_upload,\n",
    "        'comm_download': vfl3_comm_costs_download\n",
    "    },\n",
    "    'per_class_accuracy': per_class_acc.tolist(),\n",
    "    'predictions': y_pred,\n",
    "    'training_time_minutes': vfl3_total_time / 60,\n",
    "    'architecture': 'vfl_baseline'\n",
    "}\n",
    "\n",
    "with open('/kaggle/working/exp3_results.pkl', 'wb') as f:\n",
    "    pickle.dump(exp3_results, f)"
   ]
  }
 ],
 "metadata": {
  "kaggle": {
   "accelerator": "none",
   "dataSources": [
    {
     "datasetId": 8572296,
     "sourceId": 13501080,
     "sourceType": "datasetVersion"
    },
    {
     "datasetId": 8572441,
     "sourceId": 13501321,
     "sourceType": "datasetVersion"
    },
    {
     "datasetId": 54339,
     "sourceId": 104884,
     "sourceType": "datasetVersion"
    }
   ],
   "isGpuEnabled": false,
   "isInternetEnabled": true,
   "language": "python",
   "sourceType": "notebook"
  },
  "kernelspec": {
   "display_name": "Python 3",
   "language": "python",
   "name": "python3"
  },
  "language_info": {
   "codemirror_mode": {
    "name": "ipython",
    "version": 3
   },
   "file_extension": ".py",
   "mimetype": "text/x-python",
   "name": "python",
   "nbconvert_exporter": "python",
   "pygments_lexer": "ipython3",
   "version": "3.11.13"
  },
  "papermill": {
   "default_parameters": {},
   "duration": 3270.153043,
   "end_time": "2025-10-25T23:19:46.140561",
   "environment_variables": {},
   "exception": null,
   "input_path": "__notebook__.ipynb",
   "output_path": "__notebook__.ipynb",
   "parameters": {},
   "start_time": "2025-10-25T22:25:15.987518",
   "version": "2.6.0"
  }
 },
 "nbformat": 4,
 "nbformat_minor": 5
}
