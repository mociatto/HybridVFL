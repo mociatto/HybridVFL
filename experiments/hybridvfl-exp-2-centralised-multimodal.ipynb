{
 "cells": [
  {
   "cell_type": "code",
   "execution_count": null,
   "id": "0cc4b907",
   "metadata": {
    "_cell_guid": "fc1fe5ce-b433-4edc-be0d-109eda1a8818",
    "_uuid": "a55a906f-d350-4c93-959d-38a8767aa450",
    "collapsed": false,
    "execution": {
     "iopub.execute_input": "2025-10-25T22:06:40.397702Z",
     "iopub.status.busy": "2025-10-25T22:06:40.397428Z",
     "iopub.status.idle": "2025-10-25T22:06:55.210630Z",
     "shell.execute_reply": "2025-10-25T22:06:55.210024Z"
    },
    "jupyter": {
     "outputs_hidden": false
    },
    "papermill": {
     "duration": 14.818391,
     "end_time": "2025-10-25T22:06:55.212074",
     "exception": false,
     "start_time": "2025-10-25T22:06:40.393683",
     "status": "completed"
    },
    "tags": []
   },
   "outputs": [
    {
     "name": "stderr",
     "output_type": "stream",
     "text": [
      "2025-10-25 22:06:43.202786: E external/local_xla/xla/stream_executor/cuda/cuda_fft.cc:477] Unable to register cuFFT factory: Attempting to register factory for plugin cuFFT when one has already been registered\n",
      "WARNING: All log messages before absl::InitializeLog() is called are written to STDERR\n",
      "E0000 00:00:1761430003.390394      19 cuda_dnn.cc:8310] Unable to register cuDNN factory: Attempting to register factory for plugin cuDNN when one has already been registered\n",
      "E0000 00:00:1761430003.454800      19 cuda_blas.cc:1418] Unable to register cuBLAS factory: Attempting to register factory for plugin cuBLAS when one has already been registered\n"
     ]
    }
   ],
   "source": [
    "import numpy as np\n",
    "import pandas as pd\n",
    "import matplotlib.pyplot as plt\n",
    "import tensorflow as tf\n",
    "from tensorflow.keras.models import Model, load_model\n",
    "from tensorflow.keras.layers import Input, Concatenate, Dense, Dropout\n",
    "from tensorflow.keras.optimizers import Adam\n",
    "from tensorflow.keras.callbacks import EarlyStopping, ModelCheckpoint, ReduceLROnPlateau\n",
    "from sklearn.model_selection import train_test_split\n",
    "from sklearn.preprocessing import StandardScaler\n",
    "from sklearn.metrics import balanced_accuracy_score, confusion_matrix, accuracy_score, precision_score, recall_score, f1_score\n",
    "import seaborn as sns\n",
    "import pickle\n",
    "import os\n",
    "import warnings\n",
    "\n",
    "RANDOM_STATE = 42\n",
    "np.random.seed(RANDOM_STATE)\n",
    "tf.random.set_seed(RANDOM_STATE)\n",
    "warnings.filterwarnings('ignore')\n",
    "os.environ['TF_CPP_MIN_LOG_LEVEL'] = '2'"
   ]
  },
  {
   "cell_type": "code",
   "execution_count": 2,
   "id": "a3516626",
   "metadata": {
    "_cell_guid": "46882a3d-8b68-4964-a114-f873a23844ed",
    "_uuid": "b057b28e-b44d-4474-b41d-258108793de8",
    "collapsed": false,
    "execution": {
     "iopub.execute_input": "2025-10-25T22:06:55.218340Z",
     "iopub.status.busy": "2025-10-25T22:06:55.217961Z",
     "iopub.status.idle": "2025-10-25T22:06:55.261511Z",
     "shell.execute_reply": "2025-10-25T22:06:55.260968Z"
    },
    "jupyter": {
     "outputs_hidden": false
    },
    "papermill": {
     "duration": 0.047804,
     "end_time": "2025-10-25T22:06:55.262769",
     "exception": false,
     "start_time": "2025-10-25T22:06:55.214965",
     "status": "completed"
    },
    "tags": []
   },
   "outputs": [],
   "source": [
    "df_skin = pd.read_csv('/kaggle/input/skin-cancer-mnist-ham10000/HAM10000_metadata.csv')\n",
    "\n",
    "lesion_type_dict = {\n",
    "    'nv': 'Melanocytic nevi',\n",
    "    'mel': 'Melanoma', \n",
    "    'bkl': 'Benign keratosis-like lesions',\n",
    "    'bcc': 'Basal cell carcinoma',\n",
    "    'akiec': 'Actinic keratoses',\n",
    "    'vasc': 'Vascular lesions',\n",
    "    'df': 'Dermatofibroma'\n",
    "}\n",
    "\n",
    "lesion_ID_dict = {\n",
    "    'nv': 0, 'mel': 1, 'bkl': 2, 'bcc': 3, \n",
    "    'akiec': 4, 'vasc': 5, 'df': 6\n",
    "}\n",
    "\n",
    "df_skin['lesion_type'] = df_skin['dx'].map(lesion_type_dict)\n",
    "df_skin['lesion_ID'] = df_skin['dx'].map(lesion_ID_dict)"
   ]
  },
  {
   "cell_type": "code",
   "execution_count": 3,
   "id": "78ff9a94",
   "metadata": {
    "_cell_guid": "27643576-0839-4d2b-ae10-027fdb84f22c",
    "_uuid": "3ab2506b-f51f-40e1-9b8a-83378141cc37",
    "collapsed": false,
    "execution": {
     "iopub.execute_input": "2025-10-25T22:06:55.269007Z",
     "iopub.status.busy": "2025-10-25T22:06:55.268524Z",
     "iopub.status.idle": "2025-10-25T22:06:55.500527Z",
     "shell.execute_reply": "2025-10-25T22:06:55.499927Z"
    },
    "jupyter": {
     "outputs_hidden": false
    },
    "papermill": {
     "duration": 0.236567,
     "end_time": "2025-10-25T22:06:55.501929",
     "exception": false,
     "start_time": "2025-10-25T22:06:55.265362",
     "status": "completed"
    },
    "tags": []
   },
   "outputs": [],
   "source": [
    "df_features = df_skin.copy()\n",
    "\n",
    "missing_age = df_skin['age'].isnull().sum()\n",
    "zero_age = (df_skin['age'] == 0).sum()\n",
    "\n",
    "if missing_age > 0 or zero_age > 0:\n",
    "    mean_ages_per_class = df_features[df_features['age'] > 0].groupby('dx')['age'].mean().round().astype(int)\n",
    "    df_features['age'] = df_features.apply(\n",
    "        lambda row: mean_ages_per_class[row['dx']] if pd.isna(row['age']) or row['age'] == 0 else row['age'],\n",
    "        axis=1\n",
    "    )\n",
    "\n",
    "unknown_sex_count = (df_features['sex'] == 'unknown').sum()\n",
    "if unknown_sex_count > 0:\n",
    "    majority_sex_per_class = df_features[df_features['sex'] != 'unknown'].groupby('dx')['sex'].agg(lambda x: x.mode().iloc[0] if not x.mode().empty else 'unknown')\n",
    "    df_features['sex'] = df_features.apply(\n",
    "        lambda row: majority_sex_per_class[row['dx']] if row['sex'] == 'unknown' else row['sex'],\n",
    "        axis=1\n",
    "    )\n",
    "\n",
    "unknown_localization_count = (df_features['localization'] == 'unknown').sum()\n",
    "if unknown_localization_count > 0:\n",
    "    majority_localization_per_class = df_features[df_features['localization'] != 'unknown'].groupby('dx')['localization'].agg(lambda x: x.mode().iloc[0] if not x.mode().empty else 'unknown')\n",
    "    overall_majority = df_features[df_features['localization'] != 'unknown']['localization'].mode().iloc[0] if not df_features[df_features['localization'] != 'unknown']['localization'].mode().empty else 'trunk'\n",
    "    df_features['localization'] = df_features.apply(\n",
    "        lambda row: (majority_localization_per_class.get(row['dx'], overall_majority) \n",
    "                    if majority_localization_per_class.get(row['dx'], overall_majority) != 'unknown' \n",
    "                    else overall_majority) if row['localization'] == 'unknown' else row['localization'],\n",
    "        axis=1\n",
    "    )\n",
    "\n",
    "sex_encoded = pd.get_dummies(df_features['sex'], prefix='sex')\n",
    "df_features = pd.concat([df_features, sex_encoded], axis=1)\n",
    "\n",
    "localization_encoded = pd.get_dummies(df_features['localization'], prefix='localization')\n",
    "df_features = pd.concat([df_features, localization_encoded], axis=1)\n",
    "\n",
    "sun_exposure_mapping = {\n",
    "    'face': 1.0, 'neck': 0.9, 'ear': 0.9, 'scalp': 0.8, 'hand': 0.8,\n",
    "    'upper extremity': 0.7, 'lower extremity': 0.6, 'chest': 0.5,\n",
    "    'back': 0.4, 'foot': 0.4, 'trunk': 0.3, 'abdomen': 0.2,\n",
    "    'acral': 0.3, 'genital': 0.01\n",
    "}\n",
    "\n",
    "df_features['sun_exposure_score'] = df_features['localization'].map(sun_exposure_mapping)\n",
    "df_features['age_exposure_interaction'] = df_features['age'] * df_features['sun_exposure_score']\n",
    "\n",
    "tabular_features = df_features[['lesion_id', 'image_id', 'lesion_ID'] + \n",
    "                              [col for col in df_features.columns if col.startswith(('sex_', 'localization_'))] +\n",
    "                              ['age', 'sun_exposure_score', 'age_exposure_interaction']].copy()"
   ]
  },
  {
   "cell_type": "code",
   "execution_count": 4,
   "id": "b5e5484d",
   "metadata": {
    "_cell_guid": "6a09ce44-806f-4acc-841e-46b30d4525b5",
    "_uuid": "5fe3fe9f-f06d-4d06-9c7b-411cd2a143be",
    "collapsed": false,
    "execution": {
     "iopub.execute_input": "2025-10-25T22:06:55.507878Z",
     "iopub.status.busy": "2025-10-25T22:06:55.507645Z",
     "iopub.status.idle": "2025-10-25T22:06:59.731936Z",
     "shell.execute_reply": "2025-10-25T22:06:59.731309Z"
    },
    "jupyter": {
     "outputs_hidden": false
    },
    "papermill": {
     "duration": 4.22872,
     "end_time": "2025-10-25T22:06:59.733289",
     "exception": false,
     "start_time": "2025-10-25T22:06:55.504569",
     "status": "completed"
    },
    "tags": []
   },
   "outputs": [],
   "source": [
    "X_train = np.load('/kaggle/input/hybridvfl-exp-1/X_train.npy')\n",
    "X_test = np.load('/kaggle/input/hybridvfl-exp-1/X_test.npy')\n",
    "y_train = np.load('/kaggle/input/hybridvfl-exp-1/y_train.npy')\n",
    "y_test = np.load('/kaggle/input/hybridvfl-exp-1/y_test.npy')\n",
    "y = np.load('/kaggle/input/hybridvfl-exp-1/y_augmented.npy')\n",
    "\n",
    "with open('/kaggle/input/hybridvfl-exp-1/class_weight_dict.pkl', 'rb') as f:\n",
    "    class_weight_dict = pickle.load(f)"
   ]
  },
  {
   "cell_type": "code",
   "execution_count": 5,
   "id": "1666e2b7",
   "metadata": {
    "_cell_guid": "9d196213-044f-4a5b-8a0a-2be7a0934883",
    "_uuid": "c1628166-38c6-4510-a180-6802c4665d55",
    "collapsed": false,
    "execution": {
     "iopub.execute_input": "2025-10-25T22:06:59.739153Z",
     "iopub.status.busy": "2025-10-25T22:06:59.738926Z",
     "iopub.status.idle": "2025-10-25T22:07:11.129829Z",
     "shell.execute_reply": "2025-10-25T22:07:11.128967Z"
    },
    "jupyter": {
     "outputs_hidden": false
    },
    "papermill": {
     "duration": 11.395317,
     "end_time": "2025-10-25T22:07:11.131251",
     "exception": false,
     "start_time": "2025-10-25T22:06:59.735934",
     "status": "completed"
    },
    "tags": []
   },
   "outputs": [
    {
     "name": "stderr",
     "output_type": "stream",
     "text": [
      "I0000 00:00:1761430020.396412      19 gpu_device.cc:2022] Created device /job:localhost/replica:0/task:0/device:GPU:0 with 15513 MB memory:  -> device: 0, name: Tesla P100-PCIE-16GB, pci bus id: 0000:00:04.0, compute capability: 6.0\n",
      "WARNING: All log messages before absl::InitializeLog() is called are written to STDERR\n",
      "I0000 00:00:1761430025.697681      58 service.cc:148] XLA service 0x7cc7140035b0 initialized for platform CUDA (this does not guarantee that XLA will be used). Devices:\n",
      "I0000 00:00:1761430025.698193      58 service.cc:156]   StreamExecutor device (0): Tesla P100-PCIE-16GB, Compute Capability 6.0\n",
      "I0000 00:00:1761430025.804463      58 cuda_dnn.cc:529] Loaded cuDNN version 90300\n",
      "I0000 00:00:1761430026.913834      58 device_compiler.h:188] Compiled cluster using XLA!  This line is logged at most once for the lifetime of the process.\n"
     ]
    }
   ],
   "source": [
    "image_model = load_model('/kaggle/input/hybridvfl-exp-1/best_image_model.keras')\n",
    "\n",
    "feature_layer_name = 'max_pooling2d_2'\n",
    "feature_layer = None\n",
    "for layer in image_model.layers:\n",
    "    if 'max_pooling2d' in layer.name and layer.name == feature_layer_name:\n",
    "        feature_layer = layer\n",
    "        break\n",
    "\n",
    "if feature_layer is None:\n",
    "    for layer in reversed(image_model.layers):\n",
    "        if isinstance(layer, tf.keras.layers.MaxPool2D):\n",
    "            feature_layer = layer\n",
    "            feature_layer_name = layer.name\n",
    "            break\n",
    "\n",
    "if hasattr(image_model, 'input') and image_model.input is not None:\n",
    "    model_input = image_model.input\n",
    "else:\n",
    "    model_input = image_model.layers[0].input\n",
    "\n",
    "image_feature_extractor = Model(\n",
    "    inputs=model_input,\n",
    "    outputs=feature_layer.output\n",
    ")\n",
    "\n",
    "image_feature_extractor.trainable = False\n",
    "\n",
    "train_image_features = image_feature_extractor.predict(X_train, verbose=0)\n",
    "test_image_features = image_feature_extractor.predict(X_test, verbose=0)\n",
    "\n",
    "train_image_features = train_image_features.reshape(train_image_features.shape[0], -1)\n",
    "test_image_features = test_image_features.reshape(test_image_features.shape[0], -1)"
   ]
  },
  {
   "cell_type": "code",
   "execution_count": 6,
   "id": "0ba9e271",
   "metadata": {
    "_cell_guid": "bca3bf45-6eae-4c84-9d9c-85743c74f2bf",
    "_uuid": "6ac08149-949a-4964-be5c-619772785a20",
    "collapsed": false,
    "execution": {
     "iopub.execute_input": "2025-10-25T22:07:11.137772Z",
     "iopub.status.busy": "2025-10-25T22:07:11.137547Z",
     "iopub.status.idle": "2025-10-25T22:07:56.645982Z",
     "shell.execute_reply": "2025-10-25T22:07:56.645128Z"
    },
    "jupyter": {
     "outputs_hidden": false
    },
    "papermill": {
     "duration": 45.513405,
     "end_time": "2025-10-25T22:07:56.647564",
     "exception": false,
     "start_time": "2025-10-25T22:07:11.134159",
     "status": "completed"
    },
    "tags": []
   },
   "outputs": [],
   "source": [
    "def create_augmentation_mapping():\n",
    "    image_id_mapping = []\n",
    "    y_mapping = []\n",
    "    \n",
    "    image_dirs = ['/kaggle/input/skin-cancer-mnist-ham10000/HAM10000_images_part_1/', \n",
    "                  '/kaggle/input/skin-cancer-mnist-ham10000/HAM10000_images_part_2/']\n",
    "    \n",
    "    for img_dir in image_dirs:\n",
    "        if not os.path.exists(img_dir):\n",
    "            continue\n",
    "            \n",
    "        file_list = [f for f in os.listdir(img_dir) if f.endswith('.jpg')]\n",
    "        \n",
    "        for filename in file_list:\n",
    "            image_id = filename.replace('.jpg', '')\n",
    "            lesion_data = df_skin[df_skin['image_id'] == image_id]\n",
    "            \n",
    "            if len(lesion_data) == 0:\n",
    "                continue\n",
    "                \n",
    "            lesion_id = lesion_data['lesion_ID'].iloc[0]\n",
    "            \n",
    "            if lesion_id == 0:\n",
    "                num_augmented = 1\n",
    "            else:\n",
    "                num_augmented = 6\n",
    "            \n",
    "            for _ in range(num_augmented):\n",
    "                image_id_mapping.append(image_id)\n",
    "                y_mapping.append(lesion_id)\n",
    "    \n",
    "    return np.array(image_id_mapping), np.array(y_mapping)\n",
    "\n",
    "image_id_array, y_check = create_augmentation_mapping()\n",
    "\n",
    "_, _, train_image_ids, test_image_ids = train_test_split(\n",
    "    image_id_array, image_id_array,\n",
    "    test_size=0.2,\n",
    "    random_state=RANDOM_STATE,\n",
    "    stratify=y\n",
    ")\n",
    "\n",
    "numerical_columns = ['age', 'sun_exposure_score', 'age_exposure_interaction'] + \\\n",
    "                   [col for col in tabular_features.columns if col.startswith(('sex_', 'localization_'))]\n",
    "\n",
    "train_tabular_list = []\n",
    "for img_id in train_image_ids:\n",
    "    row = tabular_features[tabular_features['image_id'] == img_id][numerical_columns]\n",
    "    if len(row) > 0:\n",
    "        train_tabular_list.append(row.values[0])\n",
    "    else:\n",
    "        train_tabular_list.append(np.zeros(len(numerical_columns)))\n",
    "\n",
    "train_tabular_features = np.array(train_tabular_list)\n",
    "\n",
    "test_tabular_list = []\n",
    "for img_id in test_image_ids:\n",
    "    row = tabular_features[tabular_features['image_id'] == img_id][numerical_columns]\n",
    "    if len(row) > 0:\n",
    "        test_tabular_list.append(row.values[0])\n",
    "    else:\n",
    "        test_tabular_list.append(np.zeros(len(numerical_columns)))\n",
    "\n",
    "test_tabular_features = np.array(test_tabular_list)\n",
    "\n",
    "scaler = StandardScaler()\n",
    "train_tabular_features = scaler.fit_transform(train_tabular_features)\n",
    "test_tabular_features = scaler.transform(test_tabular_features)"
   ]
  },
  {
   "cell_type": "code",
   "execution_count": 7,
   "id": "bfd0239c",
   "metadata": {
    "_cell_guid": "181b9805-31aa-41bb-ac5d-f227417a66bb",
    "_uuid": "22df0c7f-fb76-4828-91b9-9c0152c1da84",
    "collapsed": false,
    "execution": {
     "iopub.execute_input": "2025-10-25T22:07:56.654842Z",
     "iopub.status.busy": "2025-10-25T22:07:56.654616Z",
     "iopub.status.idle": "2025-10-25T22:07:56.746567Z",
     "shell.execute_reply": "2025-10-25T22:07:56.746041Z"
    },
    "jupyter": {
     "outputs_hidden": false
    },
    "papermill": {
     "duration": 0.096736,
     "end_time": "2025-10-25T22:07:56.747699",
     "exception": false,
     "start_time": "2025-10-25T22:07:56.650963",
     "status": "completed"
    },
    "tags": []
   },
   "outputs": [],
   "source": [
    "image_input = Input(shape=(train_image_features.shape[1],), name='image_input')\n",
    "tabular_input = Input(shape=(train_tabular_features.shape[1],), name='tabular_input')\n",
    "\n",
    "image_proj = Dense(512, activation='relu', name='image_proj')(image_input)\n",
    "image_proj = Dropout(0.3, name='image_dropout')(image_proj)\n",
    "\n",
    "tabular_branch = Dense(128, activation='relu', name='tabular_dense1')(tabular_input)\n",
    "tabular_branch = Dropout(0.3, name='tabular_dropout1')(tabular_branch)\n",
    "tabular_branch = Dense(64, activation='relu', name='tabular_dense2')(tabular_branch)\n",
    "tabular_branch = Dropout(0.2, name='tabular_dropout2')(tabular_branch)\n",
    "\n",
    "common_dim = 128\n",
    "image_common = Dense(common_dim, activation='relu', name='image_common')(image_proj)\n",
    "tabular_common = Dense(common_dim, activation='relu', name='tabular_common')(tabular_branch)\n",
    "\n",
    "interaction = tf.keras.layers.Multiply(name='cross_modal_interaction')([image_common, tabular_common])\n",
    "\n",
    "direct_fusion = Concatenate(name='direct_fusion')([image_proj, tabular_branch])\n",
    "interaction_fusion = Concatenate(name='interaction_fusion')([image_common, tabular_common, interaction])\n",
    "\n",
    "final_features = Concatenate(name='final_fusion')([direct_fusion, interaction_fusion])\n",
    "\n",
    "x = Dense(2048, activation='relu', name='fc1')(final_features)\n",
    "x = Dropout(0.5, name='dropout1')(x)\n",
    "x = Dense(1024, activation='relu', name='fc2')(x)\n",
    "x = Dropout(0.4, name='dropout2')(x)\n",
    "x = Dense(512, activation='relu', name='fc3')(x)\n",
    "x = Dropout(0.3, name='dropout3')(x)\n",
    "output = Dense(7, activation='softmax', name='output')(x)\n",
    "\n",
    "multimodal_model = Model(inputs=[image_input, tabular_input], outputs=output, name='MultimodalModel')\n",
    "\n",
    "multimodal_model.compile(\n",
    "    optimizer=Adam(learning_rate=0.0001),\n",
    "    loss='categorical_crossentropy',\n",
    "    metrics=['accuracy']\n",
    ")"
   ]
  },
  {
   "cell_type": "code",
   "execution_count": 8,
   "id": "a62b70cd",
   "metadata": {
    "_cell_guid": "86683707-9ac4-410d-89f8-5b2e1bce041a",
    "_uuid": "d49b187f-6f93-4be7-a66e-3ecb81a75228",
    "collapsed": false,
    "execution": {
     "iopub.execute_input": "2025-10-25T22:07:56.753620Z",
     "iopub.status.busy": "2025-10-25T22:07:56.753391Z",
     "iopub.status.idle": "2025-10-25T22:10:24.793655Z",
     "shell.execute_reply": "2025-10-25T22:10:24.792852Z"
    },
    "jupyter": {
     "outputs_hidden": false
    },
    "papermill": {
     "duration": 148.047379,
     "end_time": "2025-10-25T22:10:24.797681",
     "exception": false,
     "start_time": "2025-10-25T22:07:56.750302",
     "status": "completed"
    },
    "tags": []
   },
   "outputs": [
    {
     "name": "stdout",
     "output_type": "stream",
     "text": [
      "Training Progress:\n",
      "Epoch 1/50 - loss: 0.9637 - acc: 0.5789 - val_loss: 0.7520 - val_acc: 0.7149\n",
      "Epoch 2/50 - loss: 0.5247 - acc: 0.7256 - val_loss: 0.6346 - val_acc: 0.7583\n",
      "Epoch 3/50 - loss: 0.4098 - acc: 0.7745 - val_loss: 0.5811 - val_acc: 0.7811\n",
      "Epoch 4/50 - loss: 0.3597 - acc: 0.8003 - val_loss: 0.5548 - val_acc: 0.7922\n",
      "Epoch 5/50 - loss: 0.3184 - acc: 0.8169 - val_loss: 0.5218 - val_acc: 0.7984\n",
      "Epoch 6/50 - loss: 0.2813 - acc: 0.8373 - val_loss: 0.5046 - val_acc: 0.8095\n",
      "Epoch 7/50 - loss: 0.2526 - acc: 0.8455 - val_loss: 0.4993 - val_acc: 0.8197\n",
      "Epoch 8/50 - loss: 0.2410 - acc: 0.8568 - val_loss: 0.4586 - val_acc: 0.8282\n",
      "Epoch 9/50 - loss: 0.2206 - acc: 0.8679 - val_loss: 0.4725 - val_acc: 0.8295\n",
      "Epoch 10/50 - loss: 0.1979 - acc: 0.8771 - val_loss: 0.4740 - val_acc: 0.8315\n",
      "Epoch 11/50 - loss: 0.1861 - acc: 0.8855 - val_loss: 0.4377 - val_acc: 0.8468\n",
      "Epoch 12/50 - loss: 0.1758 - acc: 0.8891 - val_loss: 0.4308 - val_acc: 0.8492\n",
      "Epoch 13/50 - loss: 0.1607 - acc: 0.9015 - val_loss: 0.4296 - val_acc: 0.8534\n",
      "Epoch 14/50 - loss: 0.1590 - acc: 0.9004 - val_loss: 0.4535 - val_acc: 0.8500\n",
      "Epoch 15/50 - loss: 0.1454 - acc: 0.9110 - val_loss: 0.4441 - val_acc: 0.8534\n",
      "Epoch 16/50 - loss: 0.1351 - acc: 0.9156 - val_loss: 0.4170 - val_acc: 0.8620\n",
      "Epoch 17/50 - loss: 0.1284 - acc: 0.9198 - val_loss: 0.4900 - val_acc: 0.8458\n",
      "Epoch 18/50 - loss: 0.1280 - acc: 0.9238 - val_loss: 0.4622 - val_acc: 0.8609\n",
      "Epoch 19/50 - loss: 0.1360 - acc: 0.9242 - val_loss: 0.4636 - val_acc: 0.8498\n",
      "Epoch 20/50 - loss: 0.1046 - acc: 0.9338 - val_loss: 0.3967 - val_acc: 0.8794\n",
      "Epoch 21/50 - loss: 0.0986 - acc: 0.9388 - val_loss: 0.5145 - val_acc: 0.8562\n",
      "Epoch 22/50 - loss: 0.0973 - acc: 0.9405 - val_loss: 0.4844 - val_acc: 0.8622\n",
      "Epoch 23/50 - loss: 0.0983 - acc: 0.9411 - val_loss: 0.4298 - val_acc: 0.8741\n",
      "Epoch 24/50 - loss: 0.0914 - acc: 0.9433 - val_loss: 0.4261 - val_acc: 0.8762\n",
      "Epoch 25/50 - loss: 0.0913 - acc: 0.9469 - val_loss: 0.4477 - val_acc: 0.8777\n",
      "Epoch 26/50 - loss: 0.0682 - acc: 0.9565 - val_loss: 0.4101 - val_acc: 0.8903\n",
      "Epoch 27/50 - loss: 0.0625 - acc: 0.9601 - val_loss: 0.4245 - val_acc: 0.8897\n",
      "Epoch 28/50 - loss: 0.0585 - acc: 0.9633 - val_loss: 0.4043 - val_acc: 0.8933\n",
      "Epoch 29/50 - loss: 0.0497 - acc: 0.9682 - val_loss: 0.4110 - val_acc: 0.8989\n",
      "Epoch 30/50 - loss: 0.0484 - acc: 0.9693 - val_loss: 0.4316 - val_acc: 0.8972\n",
      "Epoch 31/50 - loss: 0.0440 - acc: 0.9735 - val_loss: 0.4112 - val_acc: 0.9019\n",
      "Epoch 32/50 - loss: 0.0405 - acc: 0.9751 - val_loss: 0.4469 - val_acc: 0.9025\n",
      "Epoch 33/50 - loss: 0.0374 - acc: 0.9778 - val_loss: 0.4364 - val_acc: 0.9042\n",
      "Epoch 34/50 - loss: 0.0383 - acc: 0.9760 - val_loss: 0.4505 - val_acc: 0.9016\n",
      "Epoch 35/50 - loss: 0.0365 - acc: 0.9777 - val_loss: 0.4403 - val_acc: 0.9040\n",
      "Epoch 36/50 - loss: 0.0316 - acc: 0.9807 - val_loss: 0.4330 - val_acc: 0.9048\n",
      "Epoch 37/50 - loss: 0.0301 - acc: 0.9800 - val_loss: 0.4292 - val_acc: 0.9066\n",
      "Epoch 38/50 - loss: 0.0269 - acc: 0.9833 - val_loss: 0.4393 - val_acc: 0.9085\n",
      "Epoch 39/50 - loss: 0.0283 - acc: 0.9827 - val_loss: 0.4424 - val_acc: 0.9078\n",
      "Epoch 40/50 - loss: 0.0268 - acc: 0.9842 - val_loss: 0.4492 - val_acc: 0.9098\n",
      "Epoch 41/50 - loss: 0.0260 - acc: 0.9839 - val_loss: 0.4472 - val_acc: 0.9078\n",
      "Epoch 42/50 - loss: 0.0251 - acc: 0.9844 - val_loss: 0.4436 - val_acc: 0.9097\n",
      "Epoch 43/50 - loss: 0.0224 - acc: 0.9865 - val_loss: 0.4513 - val_acc: 0.9100\n",
      "Epoch 44/50 - loss: 0.0238 - acc: 0.9851 - val_loss: 0.4482 - val_acc: 0.9091\n",
      "Epoch 45/50 - loss: 0.0240 - acc: 0.9852 - val_loss: 0.4593 - val_acc: 0.9072\n",
      "Epoch 46/50 - loss: 0.0218 - acc: 0.9872 - val_loss: 0.4576 - val_acc: 0.9085\n",
      "Epoch 47/50 - loss: 0.0244 - acc: 0.9854 - val_loss: 0.4605 - val_acc: 0.9080\n",
      "Epoch 48/50 - loss: 0.0234 - acc: 0.9860 - val_loss: 0.4539 - val_acc: 0.9078\n",
      "Epoch 49/50 - loss: 0.0218 - acc: 0.9869 - val_loss: 0.4501 - val_acc: 0.9081\n",
      "Epoch 50/50 - loss: 0.0214 - acc: 0.9872 - val_loss: 0.4553 - val_acc: 0.9076\n"
     ]
    }
   ],
   "source": [
    "multimodal_callbacks = [\n",
    "    ModelCheckpoint(\n",
    "        '/kaggle/working/best_multimodal_model.keras',\n",
    "        monitor='val_accuracy',\n",
    "        save_best_only=True,\n",
    "        verbose=0\n",
    "    ),\n",
    "    EarlyStopping(\n",
    "        monitor='val_accuracy',\n",
    "        patience=15,\n",
    "        restore_best_weights=True,\n",
    "        verbose=0\n",
    "    ),\n",
    "    ReduceLROnPlateau(\n",
    "        monitor='val_loss',\n",
    "        factor=0.5,\n",
    "        patience=5,\n",
    "        min_lr=1e-7,\n",
    "        verbose=0\n",
    "    )\n",
    "]\n",
    "\n",
    "MULTIMODAL_EPOCHS = 50\n",
    "MULTIMODAL_BATCH_SIZE = 32\n",
    "\n",
    "history_multimodal = multimodal_model.fit(\n",
    "    [train_image_features, train_tabular_features],\n",
    "    y_train,\n",
    "    validation_data=([test_image_features, test_tabular_features], y_test),\n",
    "    epochs=MULTIMODAL_EPOCHS,\n",
    "    batch_size=MULTIMODAL_BATCH_SIZE,\n",
    "    callbacks=multimodal_callbacks,\n",
    "    class_weight=class_weight_dict,\n",
    "    verbose=0\n",
    ")\n",
    "\n",
    "# Print training summary\n",
    "print(\"Training Progress:\")\n",
    "for epoch in range(len(history_multimodal.history['loss'])):\n",
    "    train_loss = history_multimodal.history['loss'][epoch]\n",
    "    train_acc = history_multimodal.history['accuracy'][epoch]\n",
    "    val_loss = history_multimodal.history['val_loss'][epoch]\n",
    "    val_acc = history_multimodal.history['val_accuracy'][epoch]\n",
    "    print(f\"Epoch {epoch+1}/{MULTIMODAL_EPOCHS} - loss: {train_loss:.4f} - acc: {train_acc:.4f} - val_loss: {val_loss:.4f} - val_acc: {val_acc:.4f}\")"
   ]
  },
  {
   "cell_type": "code",
   "execution_count": 9,
   "id": "91d00c20",
   "metadata": {
    "_cell_guid": "3feb31b2-7f57-47ce-868c-a848f6d816ac",
    "_uuid": "4a4f0213-dd5f-4147-a771-ed8ced0d1ef1",
    "collapsed": false,
    "execution": {
     "iopub.execute_input": "2025-10-25T22:10:24.803788Z",
     "iopub.status.busy": "2025-10-25T22:10:24.803557Z",
     "iopub.status.idle": "2025-10-25T22:10:26.399959Z",
     "shell.execute_reply": "2025-10-25T22:10:26.399121Z"
    },
    "jupyter": {
     "outputs_hidden": false
    },
    "papermill": {
     "duration": 1.600783,
     "end_time": "2025-10-25T22:10:26.401114",
     "exception": false,
     "start_time": "2025-10-25T22:10:24.800331",
     "status": "completed"
    },
    "tags": []
   },
   "outputs": [
    {
     "name": "stdout",
     "output_type": "stream",
     "text": [
      "Test Accuracy: 0.9100\n",
      "Balanced Accuracy: 0.9325\n",
      "Macro F1: 0.9222\n",
      "Macro Precision: 0.9130\n",
      "Macro Recall: 0.9325\n"
     ]
    }
   ],
   "source": [
    "best_multimodal_model = load_model('/kaggle/working/best_multimodal_model.keras')\n",
    "\n",
    "y_pred_mm = best_multimodal_model.predict([test_image_features, test_tabular_features], verbose=0)\n",
    "y_pred_classes_mm = np.argmax(y_pred_mm, axis=1)\n",
    "y_true_classes_mm = np.argmax(y_test, axis=1)\n",
    "\n",
    "test_accuracy_mm = accuracy_score(y_true_classes_mm, y_pred_classes_mm)\n",
    "balanced_acc_mm = balanced_accuracy_score(y_true_classes_mm, y_pred_classes_mm)\n",
    "macro_f1_mm = f1_score(y_true_classes_mm, y_pred_classes_mm, average='macro')\n",
    "macro_precision_mm = precision_score(y_true_classes_mm, y_pred_classes_mm, average='macro')\n",
    "macro_recall_mm = recall_score(y_true_classes_mm, y_pred_classes_mm, average='macro')\n",
    "\n",
    "print(f\"Test Accuracy: {test_accuracy_mm:.4f}\")\n",
    "print(f\"Balanced Accuracy: {balanced_acc_mm:.4f}\")\n",
    "print(f\"Macro F1: {macro_f1_mm:.4f}\")\n",
    "print(f\"Macro Precision: {macro_precision_mm:.4f}\")\n",
    "print(f\"Macro Recall: {macro_recall_mm:.4f}\")"
   ]
  },
  {
   "cell_type": "code",
   "execution_count": 10,
   "id": "4cbbe850",
   "metadata": {
    "_cell_guid": "c8e5394b-71a8-482d-a606-20ffb9da6624",
    "_uuid": "e2ee9c18-3552-41fc-b31c-430a691fa013",
    "collapsed": false,
    "execution": {
     "iopub.execute_input": "2025-10-25T22:10:26.408208Z",
     "iopub.status.busy": "2025-10-25T22:10:26.407752Z",
     "iopub.status.idle": "2025-10-25T22:10:26.932961Z",
     "shell.execute_reply": "2025-10-25T22:10:26.932236Z"
    },
    "jupyter": {
     "outputs_hidden": false
    },
    "papermill": {
     "duration": 0.529945,
     "end_time": "2025-10-25T22:10:26.934128",
     "exception": false,
     "start_time": "2025-10-25T22:10:26.404183",
     "status": "completed"
    },
    "tags": []
   },
   "outputs": [
    {
     "data": {
      "image/png": "[encoded data removed]",
      "text/plain": [
       "<Figure size 1000x800 with 2 Axes>"
      ]
     },
     "metadata": {},
     "output_type": "display_data"
    },
    {
     "data": {
      "image/png": "[encoded data removed]",
      "text/plain": [
       "<Figure size 1200x600 with 1 Axes>"
      ]
     },
     "metadata": {},
     "output_type": "display_data"
    }
   ],
   "source": [
    "lesion_names_short = ['nv', 'mel', 'bkl', 'bcc', 'akiec', 'vasc', 'df']\n",
    "\n",
    "cm_mm = confusion_matrix(y_true_classes_mm, y_pred_classes_mm)\n",
    "plt.figure(figsize=(10, 8))\n",
    "sns.heatmap(cm_mm, annot=True, fmt='d', cmap='Blues',\n",
    "            xticklabels=lesion_names_short,\n",
    "            yticklabels=lesion_names_short)\n",
    "plt.title('Confusion Matrix', fontsize=14, fontweight='bold')\n",
    "plt.ylabel('True Label')\n",
    "plt.xlabel('Predicted Label')\n",
    "plt.tight_layout()\n",
    "plt.show()\n",
    "\n",
    "class_accuracies_mm = []\n",
    "for i in range(7):\n",
    "    class_mask = y_true_classes_mm == i\n",
    "    if np.sum(class_mask) > 0:\n",
    "        class_acc = np.mean(y_pred_classes_mm[class_mask] == y_true_classes_mm[class_mask])\n",
    "        class_accuracies_mm.append(class_acc)\n",
    "    else:\n",
    "        class_accuracies_mm.append(0.0)\n",
    "\n",
    "plt.figure(figsize=(12, 6))\n",
    "bars = plt.bar(range(7), class_accuracies_mm, color='lightcoral', alpha=0.8)\n",
    "plt.title('Per-Class Accuracy', fontsize=14, fontweight='bold')\n",
    "plt.xlabel('Class')\n",
    "plt.ylabel('Accuracy')\n",
    "plt.xticks(range(7), lesion_names_short, rotation=45)\n",
    "plt.ylim(0, 1)\n",
    "\n",
    "for i, (bar, acc) in enumerate(zip(bars, class_accuracies_mm)):\n",
    "    plt.text(bar.get_x() + bar.get_width()/2, bar.get_height() + 0.01, \n",
    "             f'{acc:.3f}', ha='center', va='bottom', fontweight='bold')\n",
    "\n",
    "plt.grid(axis='y', alpha=0.3)\n",
    "plt.tight_layout()\n",
    "plt.show()"
   ]
  },
  {
   "cell_type": "code",
   "execution_count": 11,
   "id": "7a2e86c8",
   "metadata": {
    "_cell_guid": "7bda658e-170b-43da-bb20-4e59631e8eec",
    "_uuid": "4503dd1c-d2d0-4b0e-b6b9-fa67e465c0ef",
    "collapsed": false,
    "execution": {
     "iopub.execute_input": "2025-10-25T22:10:26.943173Z",
     "iopub.status.busy": "2025-10-25T22:10:26.942747Z",
     "iopub.status.idle": "2025-10-25T22:10:26.965175Z",
     "shell.execute_reply": "2025-10-25T22:10:26.964673Z"
    },
    "jupyter": {
     "outputs_hidden": false
    },
    "papermill": {
     "duration": 0.027808,
     "end_time": "2025-10-25T22:10:26.966197",
     "exception": false,
     "start_time": "2025-10-25T22:10:26.938389",
     "status": "completed"
    },
    "tags": []
   },
   "outputs": [],
   "source": [
    "np.save('/kaggle/working/train_tabular_features.npy', train_tabular_features)\n",
    "np.save('/kaggle/working/test_tabular_features.npy', test_tabular_features)\n",
    "\n",
    "with open('/kaggle/working/tabular_scaler.pkl', 'wb') as f:\n",
    "    pickle.dump(scaler, f)\n",
    "\n",
    "with open('/kaggle/input/hybridvfl-exp-1/exp1_results.pkl', 'rb') as f:\n",
    "    exp1_results = pickle.load(f)\n",
    "\n",
    "exp1_2_results = {\n",
    "    'exp1_balanced_acc': exp1_results['balanced_accuracy'],\n",
    "    'exp2_balanced_acc': float(balanced_acc_mm),\n",
    "    'exp1_test_acc': exp1_results['test_accuracy'],\n",
    "    'exp2_test_acc': float(test_accuracy_mm),\n",
    "    'improvement': float((balanced_acc_mm - exp1_results['balanced_accuracy']) * 100)\n",
    "}\n",
    "\n",
    "with open('/kaggle/working/exp1_2_results.pkl', 'wb') as f:\n",
    "    pickle.dump(exp1_2_results, f)\n",
    "\n",
    "exp2_results = {\n",
    "    'test_accuracy': float(test_accuracy_mm),\n",
    "    'balanced_accuracy': float(balanced_acc_mm),\n",
    "    'confusion_matrix': cm_mm,\n",
    "    'training_history': {\n",
    "        'loss': history_multimodal.history['loss'],\n",
    "        'val_loss': history_multimodal.history['val_loss'],\n",
    "        'acc': history_multimodal.history['accuracy'],\n",
    "        'val_acc': history_multimodal.history['val_accuracy']\n",
    "    },\n",
    "    'predictions': y_pred_classes_mm\n",
    "}\n",
    "\n",
    "with open('/kaggle/working/exp2_results.pkl', 'wb') as f:\n",
    "    pickle.dump(exp2_results, f)"
   ]
  }
 ],
 "metadata": {
  "kaggle": {
   "accelerator": "gpu",
   "dataSources": [
    {
     "datasetId": 54339,
     "sourceId": 104884,
     "sourceType": "datasetVersion"
    },
    {
     "datasetId": 8572296,
     "sourceId": 13501080,
     "sourceType": "datasetVersion"
    }
   ],
   "dockerImageVersionId": 31154,
   "isGpuEnabled": true,
   "isInternetEnabled": true,
   "language": "python",
   "sourceType": "notebook"
  },
  "kernelspec": {
   "display_name": "Python 3",
   "language": "python",
   "name": "python3"
  },
  "language_info": {
   "codemirror_mode": {
    "name": "ipython",
    "version": 3
   },
   "file_extension": ".py",
   "mimetype": "text/x-python",
   "name": "python",
   "nbconvert_exporter": "python",
   "pygments_lexer": "ipython3",
   "version": "3.11.13"
  },
  "papermill": {
   "default_parameters": {},
   "duration": 232.935592,
   "end_time": "2025-10-25T22:10:29.906970",
   "environment_variables": {},
   "exception": null,
   "input_path": "__notebook__.ipynb",
   "output_path": "__notebook__.ipynb",
   "parameters": {},
   "start_time": "2025-10-25T22:06:36.971378",
   "version": "2.6.0"
  }
 },
 "nbformat": 4,
 "nbformat_minor": 5
}
