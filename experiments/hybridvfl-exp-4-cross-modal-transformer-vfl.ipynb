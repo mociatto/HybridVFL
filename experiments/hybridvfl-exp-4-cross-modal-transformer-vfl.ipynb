{
 "cells": [
  {
   "cell_type": "code",
   "execution_count": 1,
   "id": "bd681cd0",
   "metadata": {
    "_cell_guid": "84ffb92c-fa26-42a5-bb94-2c06ecbb56a6",
    "_uuid": "e8725272-1bb4-4408-b9cf-872cb6a70149",
    "collapsed": false,
    "execution": {
     "iopub.execute_input": "2025-10-26T07:56:03.175768Z",
     "iopub.status.busy": "2025-10-26T07:56:03.175549Z",
     "iopub.status.idle": "2025-10-26T07:56:18.764606Z",
     "shell.execute_reply": "2025-10-26T07:56:18.763995Z"
    },
    "jupyter": {
     "outputs_hidden": false
    },
    "papermill": {
     "duration": 15.594123,
     "end_time": "2025-10-26T07:56:18.765981",
     "exception": false,
     "start_time": "2025-10-26T07:56:03.171858",
     "status": "completed"
    },
    "tags": []
   },
   "outputs": [
    {
     "name": "stderr",
     "output_type": "stream",
     "text": [
      "2025-10-26 07:56:06.203826: E external/local_xla/xla/stream_executor/cuda/cuda_fft.cc:477] Unable to register cuFFT factory: Attempting to register factory for plugin cuFFT when one has already been registered\n",
      "WARNING: All log messages before absl::InitializeLog() is called are written to STDERR\n",
      "E0000 00:00:1761465366.448246      19 cuda_dnn.cc:8310] Unable to register cuDNN factory: Attempting to register factory for plugin cuDNN when one has already been registered\n",
      "E0000 00:00:1761465366.510663      19 cuda_blas.cc:1418] Unable to register cuBLAS factory: Attempting to register factory for plugin cuBLAS when one has already been registered\n"
     ]
    }
   ],
   "source": [
    "import numpy as np\n",
    "import pandas as pd\n",
    "import matplotlib.pyplot as plt\n",
    "import tensorflow as tf\n",
    "from tensorflow.keras.models import Model, load_model\n",
    "from tensorflow.keras.layers import (Input, Concatenate, Dense, Dropout, \n",
    "                                      LayerNormalization, MultiHeadAttention, \n",
    "                                      Reshape, Flatten)\n",
    "from tensorflow.keras.optimizers import Adam\n",
    "from sklearn.preprocessing import StandardScaler\n",
    "from sklearn.metrics import balanced_accuracy_score, confusion_matrix, accuracy_score, precision_score, recall_score, f1_score\n",
    "import seaborn as sns\n",
    "import pickle\n",
    "import time\n",
    "import warnings\n",
    "\n",
    "RANDOM_STATE = 42\n",
    "np.random.seed(RANDOM_STATE)\n",
    "tf.random.set_seed(RANDOM_STATE)\n",
    "warnings.filterwarnings('ignore')"
   ]
  },
  {
   "cell_type": "code",
   "execution_count": 2,
   "id": "4123428f",
   "metadata": {
    "_cell_guid": "2e1abd33-f3b6-4bee-aba1-3bfc5f95efc0",
    "_uuid": "d4f25075-f6ea-4b75-a070-25877b54e6e7",
    "collapsed": false,
    "execution": {
     "iopub.execute_input": "2025-10-26T07:56:18.771950Z",
     "iopub.status.busy": "2025-10-26T07:56:18.771560Z",
     "iopub.status.idle": "2025-10-26T07:56:27.290539Z",
     "shell.execute_reply": "2025-10-26T07:56:27.289692Z"
    },
    "jupyter": {
     "outputs_hidden": false
    },
    "papermill": {
     "duration": 8.523336,
     "end_time": "2025-10-26T07:56:27.291994",
     "exception": false,
     "start_time": "2025-10-26T07:56:18.768658",
     "status": "completed"
    },
    "tags": []
   },
   "outputs": [
    {
     "name": "stderr",
     "output_type": "stream",
     "text": [
      "I0000 00:00:1761465379.553130      19 gpu_device.cc:2022] Created device /job:localhost/replica:0/task:0/device:GPU:0 with 15513 MB memory:  -> device: 0, name: Tesla P100-PCIE-16GB, pci bus id: 0000:00:04.0, compute capability: 6.0\n"
     ]
    }
   ],
   "source": [
    "BASE_PATH_EXP1 = '/kaggle/input/hybridvfl-exp-1/'\n",
    "BASE_PATH_EXP2 = '/kaggle/input/hybridvfl-exp-2/'\n",
    "BASE_PATH_EXP3 = '/kaggle/input/hybridvfl-exp-3/'\n",
    "\n",
    "image_model = load_model(BASE_PATH_EXP1 + 'best_image_model.keras')\n",
    "\n",
    "X_train = np.load(BASE_PATH_EXP1 + 'X_train.npy')\n",
    "X_test = np.load(BASE_PATH_EXP1 + 'X_test.npy')\n",
    "y_train = np.load(BASE_PATH_EXP1 + 'y_train.npy')\n",
    "y_test = np.load(BASE_PATH_EXP1 + 'y_test.npy')\n",
    "\n",
    "train_tabular_features = np.load(BASE_PATH_EXP2 + 'train_tabular_features.npy')\n",
    "test_tabular_features = np.load(BASE_PATH_EXP2 + 'test_tabular_features.npy')\n",
    "\n",
    "with open(BASE_PATH_EXP1 + 'class_weight_dict.pkl', 'rb') as f:\n",
    "    class_weight_dict = pickle.load(f)\n",
    "\n",
    "with open(BASE_PATH_EXP2 + 'exp1_2_results.pkl', 'rb') as f:\n",
    "    prev_results = pickle.load(f)\n",
    "\n",
    "with open(BASE_PATH_EXP3 + 'exp3_results.pkl', 'rb') as f:\n",
    "    exp3_results = pickle.load(f)"
   ]
  },
  {
   "cell_type": "code",
   "execution_count": 3,
   "id": "8a999044",
   "metadata": {
    "_cell_guid": "3cd1e31f-31c8-4f1b-a9a1-1e4ebbc62a49",
    "_uuid": "12b003d6-6c33-473f-901c-1aee4d7a0a3f",
    "collapsed": false,
    "execution": {
     "iopub.execute_input": "2025-10-26T07:56:27.298357Z",
     "iopub.status.busy": "2025-10-26T07:56:27.297719Z",
     "iopub.status.idle": "2025-10-26T07:56:27.305104Z",
     "shell.execute_reply": "2025-10-26T07:56:27.304412Z"
    },
    "jupyter": {
     "outputs_hidden": false
    },
    "papermill": {
     "duration": 0.011578,
     "end_time": "2025-10-26T07:56:27.306243",
     "exception": false,
     "start_time": "2025-10-26T07:56:27.294665",
     "status": "completed"
    },
    "tags": []
   },
   "outputs": [],
   "source": [
    "if hasattr(image_model, 'input') and image_model.input is not None:\n",
    "    model_input = image_model.input\n",
    "else:\n",
    "    model_input = image_model.layers[0].input\n",
    "\n",
    "feature_layer = None\n",
    "for layer in image_model.layers:\n",
    "    if isinstance(layer, tf.keras.layers.MaxPooling2D):\n",
    "        feature_layer = layer\n",
    "        if 'max_pooling2d_2' in layer.name:\n",
    "            break\n",
    "\n",
    "if feature_layer is None or 'max_pooling2d_2' not in feature_layer.name:\n",
    "    maxpool_layers = [layer for layer in image_model.layers if isinstance(layer, tf.keras.layers.MaxPooling2D)]\n",
    "    if len(maxpool_layers) >= 2:\n",
    "        feature_layer = maxpool_layers[1]\n",
    "    else:\n",
    "        feature_layer = maxpool_layers[0]\n",
    "\n",
    "base_image_model = Model(\n",
    "    inputs=model_input,\n",
    "    outputs=feature_layer.output,\n",
    "    name='ImageBase'\n",
    ")\n",
    "\n",
    "for layer in base_image_model.layers:\n",
    "    layer.trainable = False"
   ]
  },
  {
   "cell_type": "code",
   "execution_count": 4,
   "id": "ac08d666",
   "metadata": {
    "_cell_guid": "5f3cdb1b-6d6e-4634-bc15-2e20c3329dfe",
    "_uuid": "f7d2732b-675f-4089-a553-a0e590366710",
    "collapsed": false,
    "execution": {
     "iopub.execute_input": "2025-10-26T07:56:27.311892Z",
     "iopub.status.busy": "2025-10-26T07:56:27.311366Z",
     "iopub.status.idle": "2025-10-26T07:56:27.354750Z",
     "shell.execute_reply": "2025-10-26T07:56:27.353981Z"
    },
    "jupyter": {
     "outputs_hidden": false
    },
    "papermill": {
     "duration": 0.047314,
     "end_time": "2025-10-26T07:56:27.355902",
     "exception": false,
     "start_time": "2025-10-26T07:56:27.308588",
     "status": "completed"
    },
    "tags": []
   },
   "outputs": [],
   "source": [
    "image_input = Input(shape=(100, 100, 3), name='image_input')\n",
    "base_features = base_image_model(image_input)\n",
    "base_flat = Flatten(name='image_flatten')(base_features)\n",
    "\n",
    "specific_img = Dense(2048, activation='relu', name='img_specific_dense1')(base_flat)\n",
    "specific_img = Dropout(0.3, name='img_specific_dropout1')(specific_img)\n",
    "specific_img_output = Dense(1024, activation='relu', name='img_specific_output')(specific_img)\n",
    "\n",
    "invariant_img = Dense(512, activation='relu', name='img_invariant_dense1')(base_flat)\n",
    "invariant_img = Dropout(0.2, name='img_invariant_dropout1')(invariant_img)\n",
    "invariant_img_output = Dense(256, activation='relu', name='img_invariant_output')(invariant_img)\n",
    "\n",
    "dual_image_client = Model(\n",
    "    inputs=image_input,\n",
    "    outputs=[specific_img_output, invariant_img_output],\n",
    "    name='DualImageClient'\n",
    ")"
   ]
  },
  {
   "cell_type": "code",
   "execution_count": 5,
   "id": "c34d8f48",
   "metadata": {
    "_cell_guid": "17725942-4405-43b7-b1a2-27625cc0c2ab",
    "_uuid": "2ae5f267-f277-4be6-a716-52443d55ca49",
    "collapsed": false,
    "execution": {
     "iopub.execute_input": "2025-10-26T07:56:27.361421Z",
     "iopub.status.busy": "2025-10-26T07:56:27.361174Z",
     "iopub.status.idle": "2025-10-26T07:56:27.399470Z",
     "shell.execute_reply": "2025-10-26T07:56:27.398929Z"
    },
    "jupyter": {
     "outputs_hidden": false
    },
    "papermill": {
     "duration": 0.042406,
     "end_time": "2025-10-26T07:56:27.400656",
     "exception": false,
     "start_time": "2025-10-26T07:56:27.358250",
     "status": "completed"
    },
    "tags": []
   },
   "outputs": [],
   "source": [
    "tabular_input = Input(shape=(train_tabular_features.shape[1],), name='tabular_input')\n",
    "\n",
    "specific_tab = Dense(128, activation='relu', name='tab_specific_dense1')(tabular_input)\n",
    "specific_tab = Dropout(0.3, name='tab_specific_dropout1')(specific_tab)\n",
    "specific_tab_output = Dense(64, activation='relu', name='tab_specific_output')(specific_tab)\n",
    "\n",
    "invariant_tab = Dense(128, activation='relu', name='tab_invariant_dense1')(tabular_input)\n",
    "invariant_tab = Dropout(0.2, name='tab_invariant_dropout1')(invariant_tab)\n",
    "invariant_tab_output = Dense(256, activation='relu', name='tab_invariant_output')(invariant_tab)\n",
    "\n",
    "dual_tabular_client = Model(\n",
    "    inputs=tabular_input,\n",
    "    outputs=[specific_tab_output, invariant_tab_output],\n",
    "    name='DualTabularClient'\n",
    ")"
   ]
  },
  {
   "cell_type": "code",
   "execution_count": 6,
   "id": "a802b937",
   "metadata": {
    "_cell_guid": "6dcb2f3b-4a67-4451-8f19-a96a5ed753b0",
    "_uuid": "52bdcedc-7a6a-4459-8d2f-deaf2c7013a3",
    "collapsed": false,
    "execution": {
     "iopub.execute_input": "2025-10-26T07:56:27.406524Z",
     "iopub.status.busy": "2025-10-26T07:56:27.406284Z",
     "iopub.status.idle": "2025-10-26T07:56:27.496558Z",
     "shell.execute_reply": "2025-10-26T07:56:27.495799Z"
    },
    "jupyter": {
     "outputs_hidden": false
    },
    "papermill": {
     "duration": 0.094513,
     "end_time": "2025-10-26T07:56:27.497687",
     "exception": false,
     "start_time": "2025-10-26T07:56:27.403174",
     "status": "completed"
    },
    "tags": []
   },
   "outputs": [],
   "source": [
    "spec_img_input = Input(shape=(1024,), name='server_spec_img_input')\n",
    "inv_img_input = Input(shape=(256,), name='server_inv_img_input')\n",
    "spec_tab_input = Input(shape=(64,), name='server_spec_tab_input')\n",
    "inv_tab_input = Input(shape=(256,), name='server_inv_tab_input')\n",
    "\n",
    "spec_img_proj = Dense(128, activation='relu', name='spec_img_proj')(spec_img_input)\n",
    "spec_tab_proj = Dense(128, activation='relu', name='spec_tab_proj')(spec_tab_input)\n",
    "\n",
    "spec_img_seq = Reshape((1, 128), name='spec_img_seq')(spec_img_proj)\n",
    "spec_tab_seq = Reshape((1, 128), name='spec_tab_seq')(spec_tab_proj)\n",
    "\n",
    "feature_sequence = Concatenate(axis=1, name='feature_sequence')([spec_img_seq, spec_tab_seq])\n",
    "\n",
    "attention_layer = MultiHeadAttention(\n",
    "    num_heads=4, \n",
    "    key_dim=32, \n",
    "    dropout=0.1,\n",
    "    name='cross_modal_attention'\n",
    ")\n",
    "attended = attention_layer(feature_sequence, feature_sequence)\n",
    "\n",
    "attended = LayerNormalization(epsilon=1e-6, name='attention_layernorm')(attended)\n",
    "\n",
    "attended_flat = Flatten(name='attended_flatten')(attended)\n",
    "\n",
    "final_features = Concatenate(name='final_features')([\n",
    "    attended_flat,\n",
    "    inv_img_input,\n",
    "    inv_tab_input\n",
    "])\n",
    "\n",
    "x_server = Dense(4096, activation='relu', name='server_fc1')(final_features)\n",
    "x_server = Dropout(0.5, name='server_dropout1')(x_server)\n",
    "x_server = Dense(4096, activation='relu', name='server_fc2')(x_server)\n",
    "x_server = Dropout(0.5, name='server_dropout2')(x_server)\n",
    "server_output = Dense(7, activation='softmax', name='server_output')(x_server)\n",
    "\n",
    "transformer_server = Model(\n",
    "    inputs=[spec_img_input, inv_img_input, spec_tab_input, inv_tab_input],\n",
    "    outputs=server_output,\n",
    "    name='TransformerServer'\n",
    ")\n",
    "\n",
    "optimizer_img = Adam(learning_rate=0.0001)\n",
    "optimizer_tab = Adam(learning_rate=0.0001)\n",
    "optimizer_server = Adam(learning_rate=0.0001)\n",
    "\n",
    "transformer_server.compile(\n",
    "    optimizer=optimizer_server,\n",
    "    loss='categorical_crossentropy',\n",
    "    metrics=['accuracy']\n",
    ")"
   ]
  },
  {
   "cell_type": "code",
   "execution_count": 7,
   "id": "6274f9ff",
   "metadata": {
    "_cell_guid": "48a577aa-fea6-4e15-a0c2-049b98c17915",
    "_uuid": "0a476eae-9dcd-42c7-8801-a4728617aa61",
    "collapsed": false,
    "execution": {
     "iopub.execute_input": "2025-10-26T07:56:27.503522Z",
     "iopub.status.busy": "2025-10-26T07:56:27.503297Z",
     "iopub.status.idle": "2025-10-26T10:35:56.369516Z",
     "shell.execute_reply": "2025-10-26T10:35:56.368814Z"
    },
    "jupyter": {
     "outputs_hidden": false
    },
    "papermill": {
     "duration": 9568.870835,
     "end_time": "2025-10-26T10:35:56.370916",
     "exception": false,
     "start_time": "2025-10-26T07:56:27.500081",
     "status": "completed"
    },
    "tags": []
   },
   "outputs": [
    {
     "name": "stdout",
     "output_type": "stream",
     "text": [
      "Training Progress:\n"
     ]
    },
    {
     "name": "stderr",
     "output_type": "stream",
     "text": [
      "I0000 00:00:1761465387.609868      19 cuda_dnn.cc:529] Loaded cuDNN version 90300\n",
      "WARNING: All log messages before absl::InitializeLog() is called are written to STDERR\n",
      "I0000 00:00:1761465582.409944      59 service.cc:148] XLA service 0x7e47bc00c2c0 initialized for platform CUDA (this does not guarantee that XLA will be used). Devices:\n",
      "I0000 00:00:1761465582.410578      59 service.cc:156]   StreamExecutor device (0): Tesla P100-PCIE-16GB, Compute Capability 6.0\n",
      "I0000 00:00:1761465583.230870      59 device_compiler.h:188] Compiled cluster using XLA!  This line is logged at most once for the lifetime of the process.\n"
     ]
    },
    {
     "name": "stdout",
     "output_type": "stream",
     "text": [
      "Epoch 1/50 - loss: 1.6424 - acc: 0.6088 - val_loss: 0.8715 - val_acc: 0.6657\n",
      "Epoch 2/50 - loss: 1.3960 - acc: 0.6942 - val_loss: 0.7093 - val_acc: 0.7346\n",
      "Epoch 3/50 - loss: 1.3230 - acc: 0.7300 - val_loss: 0.6831 - val_acc: 0.7410\n",
      "Epoch 4/50 - loss: 1.2789 - acc: 0.7413 - val_loss: 0.6252 - val_acc: 0.7574\n",
      "Epoch 5/50 - loss: 1.2461 - acc: 0.7543 - val_loss: 0.6526 - val_acc: 0.7548\n",
      "Epoch 6/50 - loss: 1.2238 - acc: 0.7667 - val_loss: 0.5914 - val_acc: 0.7758\n",
      "Epoch 7/50 - loss: 1.2049 - acc: 0.7766 - val_loss: 0.5777 - val_acc: 0.7877\n",
      "Epoch 8/50 - loss: 1.1872 - acc: 0.7844 - val_loss: 0.6134 - val_acc: 0.7738\n",
      "Epoch 9/50 - loss: 1.1775 - acc: 0.7900 - val_loss: 0.5823 - val_acc: 0.7849\n",
      "Epoch 10/50 - loss: 1.1566 - acc: 0.7993 - val_loss: 0.5763 - val_acc: 0.7817\n",
      "Epoch 11/50 - loss: 1.1427 - acc: 0.8060 - val_loss: 0.5357 - val_acc: 0.7973\n",
      "Epoch 12/50 - loss: 1.1316 - acc: 0.8108 - val_loss: 0.5920 - val_acc: 0.7824\n",
      "Epoch 13/50 - loss: 1.1295 - acc: 0.8104 - val_loss: 0.5164 - val_acc: 0.8075\n",
      "Epoch 14/50 - loss: 1.1098 - acc: 0.8163 - val_loss: 0.5200 - val_acc: 0.8095\n",
      "Epoch 15/50 - loss: 1.0942 - acc: 0.8270 - val_loss: 0.4586 - val_acc: 0.8187\n",
      "Epoch 16/50 - loss: 1.0910 - acc: 0.8291 - val_loss: 0.5233 - val_acc: 0.8084\n",
      "Epoch 17/50 - loss: 1.0844 - acc: 0.8329 - val_loss: 0.4768 - val_acc: 0.8167\n",
      "Epoch 18/50 - loss: 1.0720 - acc: 0.8398 - val_loss: 0.5197 - val_acc: 0.8178\n",
      "Epoch 19/50 - loss: 1.0642 - acc: 0.8395 - val_loss: 0.4556 - val_acc: 0.8404\n",
      "Epoch 20/50 - loss: 1.0697 - acc: 0.8444 - val_loss: 0.4761 - val_acc: 0.8297\n",
      "Epoch 21/50 - loss: 1.0526 - acc: 0.8488 - val_loss: 0.4573 - val_acc: 0.8268\n",
      "Epoch 22/50 - loss: 1.0531 - acc: 0.8484 - val_loss: 0.5445 - val_acc: 0.8105\n",
      "Epoch 23/50 - loss: 1.0400 - acc: 0.8518 - val_loss: 0.4290 - val_acc: 0.8470\n",
      "Epoch 24/50 - loss: 1.0255 - acc: 0.8596 - val_loss: 0.4399 - val_acc: 0.8363\n",
      "Epoch 25/50 - loss: 1.0243 - acc: 0.8632 - val_loss: 0.4265 - val_acc: 0.8468\n",
      "Epoch 26/50 - loss: 1.0208 - acc: 0.8650 - val_loss: 0.3933 - val_acc: 0.8530\n",
      "Epoch 27/50 - loss: 1.0184 - acc: 0.8662 - val_loss: 0.3924 - val_acc: 0.8524\n",
      "Epoch 28/50 - loss: 1.0127 - acc: 0.8702 - val_loss: 0.4210 - val_acc: 0.8417\n",
      "Epoch 29/50 - loss: 1.0118 - acc: 0.8729 - val_loss: 0.3822 - val_acc: 0.8590\n",
      "Epoch 30/50 - loss: 1.0032 - acc: 0.8788 - val_loss: 0.3884 - val_acc: 0.8628\n",
      "Epoch 31/50 - loss: 0.9904 - acc: 0.8819 - val_loss: 0.4040 - val_acc: 0.8658\n",
      "Epoch 32/50 - loss: 0.9909 - acc: 0.8823 - val_loss: 0.3713 - val_acc: 0.8718\n",
      "Epoch 33/50 - loss: 0.9876 - acc: 0.8860 - val_loss: 0.3602 - val_acc: 0.8726\n",
      "Epoch 34/50 - loss: 0.9971 - acc: 0.8826 - val_loss: 0.3997 - val_acc: 0.8664\n",
      "Epoch 35/50 - loss: 0.9707 - acc: 0.8924 - val_loss: 0.3477 - val_acc: 0.8784\n",
      "Epoch 36/50 - loss: 0.9664 - acc: 0.8927 - val_loss: 0.3291 - val_acc: 0.8824\n",
      "Epoch 37/50 - loss: 0.9726 - acc: 0.8923 - val_loss: 0.3660 - val_acc: 0.8752\n",
      "Epoch 38/50 - loss: 0.9634 - acc: 0.8999 - val_loss: 0.3615 - val_acc: 0.8746\n",
      "Epoch 39/50 - loss: 0.9690 - acc: 0.8947 - val_loss: 0.3421 - val_acc: 0.8854\n",
      "Epoch 40/50 - loss: 0.9548 - acc: 0.9014 - val_loss: 0.3331 - val_acc: 0.8882\n",
      "Epoch 41/50 - loss: 0.9560 - acc: 0.9033 - val_loss: 0.3072 - val_acc: 0.8991\n",
      "Epoch 42/50 - loss: 0.9567 - acc: 0.9025 - val_loss: 0.3392 - val_acc: 0.8895\n",
      "Epoch 43/50 - loss: 0.9420 - acc: 0.9088 - val_loss: 0.3140 - val_acc: 0.8918\n",
      "Epoch 44/50 - loss: 0.9435 - acc: 0.9091 - val_loss: 0.3850 - val_acc: 0.8812\n",
      "Epoch 45/50 - loss: 0.9380 - acc: 0.9116 - val_loss: 0.3389 - val_acc: 0.8903\n",
      "Epoch 46/50 - loss: 0.9409 - acc: 0.9111 - val_loss: 0.4651 - val_acc: 0.8664\n",
      "Epoch 47/50 - loss: 0.9486 - acc: 0.9095 - val_loss: 0.3293 - val_acc: 0.9018\n",
      "Epoch 48/50 - loss: 0.9340 - acc: 0.9162 - val_loss: 0.3157 - val_acc: 0.8970\n",
      "Epoch 49/50 - loss: 0.9309 - acc: 0.9174 - val_loss: 0.3475 - val_acc: 0.8882\n",
      "Epoch 50/50 - loss: 0.9347 - acc: 0.9137 - val_loss: 0.3759 - val_acc: 0.8880\n"
     ]
    }
   ],
   "source": [
    "VFL4_EPOCHS = 50\n",
    "VFL4_BATCH_SIZE = 32\n",
    "LAMBDA_ALIGNMENT = 0.5\n",
    "\n",
    "num_train_samples = len(X_train)\n",
    "num_batches = num_train_samples // VFL4_BATCH_SIZE\n",
    "\n",
    "vfl4_train_loss_history = []\n",
    "vfl4_train_acc_history = []\n",
    "vfl4_val_loss_history = []\n",
    "vfl4_val_acc_history = []\n",
    "vfl4_class_loss_history = []\n",
    "vfl4_align_loss_history = []\n",
    "vfl4_comm_costs_upload = []\n",
    "vfl4_comm_costs_download = []\n",
    "\n",
    "vfl4_start_time = time.time()\n",
    "\n",
    "print(\"Training Progress:\")\n",
    "for epoch in range(VFL4_EPOCHS):\n",
    "    epoch_start = time.time()\n",
    "    epoch_loss = 0\n",
    "    epoch_class_loss = 0\n",
    "    epoch_align_loss = 0\n",
    "    epoch_acc = 0\n",
    "    epoch_upload_cost = 0\n",
    "    epoch_download_cost = 0\n",
    "    \n",
    "    indices = np.random.permutation(num_train_samples)\n",
    "    \n",
    "    for batch_idx in range(num_batches):\n",
    "        batch_start = batch_idx * VFL4_BATCH_SIZE\n",
    "        batch_end = batch_start + VFL4_BATCH_SIZE\n",
    "        batch_indices = indices[batch_start:batch_end]\n",
    "        \n",
    "        X_batch = X_train[batch_indices]\n",
    "        y_batch = y_train[batch_indices]\n",
    "        X_tab_batch = train_tabular_features[batch_indices]\n",
    "        \n",
    "        with tf.GradientTape(persistent=True) as client_tape:\n",
    "            spec_img, inv_img = dual_image_client(X_batch, training=True)\n",
    "            spec_tab, inv_tab = dual_tabular_client(X_tab_batch, training=True)\n",
    "        \n",
    "        upload_cost = (spec_img.numpy().nbytes + inv_img.numpy().nbytes + \n",
    "                       spec_tab.numpy().nbytes + inv_tab.numpy().nbytes) / (1024 * 1024)\n",
    "        epoch_upload_cost += upload_cost\n",
    "        \n",
    "        with tf.GradientTape(persistent=True) as server_tape:\n",
    "            predictions = transformer_server([spec_img, inv_img, spec_tab, inv_tab], training=True)\n",
    "            \n",
    "            sample_weights = np.array([class_weight_dict[np.argmax(y)] for y in y_batch])\n",
    "            class_loss = tf.keras.losses.categorical_crossentropy(y_batch, predictions)\n",
    "            class_loss = tf.reduce_mean(class_loss * sample_weights)\n",
    "            \n",
    "            alignment_loss = tf.reduce_mean(tf.square(inv_img - inv_tab))\n",
    "            \n",
    "            total_loss = class_loss + LAMBDA_ALIGNMENT * alignment_loss\n",
    "        \n",
    "        server_grads = server_tape.gradient(total_loss, transformer_server.trainable_variables)\n",
    "        optimizer_server.apply_gradients(zip(server_grads, transformer_server.trainable_variables))\n",
    "        \n",
    "        grad_spec_img = server_tape.gradient(total_loss, spec_img)\n",
    "        grad_inv_img = server_tape.gradient(total_loss, inv_img)\n",
    "        grad_spec_tab = server_tape.gradient(total_loss, spec_tab)\n",
    "        grad_inv_tab = server_tape.gradient(total_loss, inv_tab)\n",
    "        \n",
    "        del server_tape\n",
    "        \n",
    "        download_size = 0\n",
    "        for grad in [grad_spec_img, grad_inv_img, grad_spec_tab, grad_inv_tab]:\n",
    "            if grad is not None:\n",
    "                download_size += grad.numpy().nbytes\n",
    "        download_cost = download_size / (1024 * 1024)\n",
    "        epoch_download_cost += download_cost\n",
    "        \n",
    "        if grad_spec_img is not None and grad_inv_img is not None:\n",
    "            img_grads = client_tape.gradient(\n",
    "                [spec_img, inv_img],\n",
    "                dual_image_client.trainable_variables,\n",
    "                output_gradients=[grad_spec_img, grad_inv_img]\n",
    "            )\n",
    "            if img_grads and any(g is not None for g in img_grads):\n",
    "                optimizer_img.apply_gradients(zip(\n",
    "                    [g for g in img_grads if g is not None],\n",
    "                    [v for v, g in zip(dual_image_client.trainable_variables, img_grads) if g is not None]\n",
    "                ))\n",
    "        \n",
    "        if grad_spec_tab is not None and grad_inv_tab is not None:\n",
    "            tab_grads = client_tape.gradient(\n",
    "                [spec_tab, inv_tab],\n",
    "                dual_tabular_client.trainable_variables,\n",
    "                output_gradients=[grad_spec_tab, grad_inv_tab]\n",
    "            )\n",
    "            if tab_grads and any(g is not None for g in tab_grads):\n",
    "                optimizer_tab.apply_gradients(zip(\n",
    "                    [g for g in tab_grads if g is not None],\n",
    "                    [v for v, g in zip(dual_tabular_client.trainable_variables, tab_grads) if g is not None]\n",
    "                ))\n",
    "        \n",
    "        del client_tape\n",
    "        \n",
    "        epoch_loss += total_loss.numpy()\n",
    "        epoch_class_loss += class_loss.numpy()\n",
    "        epoch_align_loss += alignment_loss.numpy()\n",
    "        batch_acc = np.mean(np.argmax(predictions.numpy(), axis=1) == np.argmax(y_batch, axis=1))\n",
    "        epoch_acc += batch_acc\n",
    "    \n",
    "    avg_loss = epoch_loss / num_batches\n",
    "    avg_class_loss = epoch_class_loss / num_batches\n",
    "    avg_align_loss = epoch_align_loss / num_batches\n",
    "    avg_acc = epoch_acc / num_batches\n",
    "    \n",
    "    val_spec_img, val_inv_img = dual_image_client.predict(X_test, verbose=0)\n",
    "    val_spec_tab, val_inv_tab = dual_tabular_client.predict(test_tabular_features, verbose=0)\n",
    "    val_predictions = transformer_server.predict([val_spec_img, val_inv_img, val_spec_tab, val_inv_tab], verbose=0)\n",
    "    val_loss = tf.keras.losses.categorical_crossentropy(y_test, val_predictions).numpy().mean()\n",
    "    val_acc = np.mean(np.argmax(val_predictions, axis=1) == np.argmax(y_test, axis=1))\n",
    "    \n",
    "    vfl4_train_loss_history.append(avg_loss)\n",
    "    vfl4_train_acc_history.append(avg_acc)\n",
    "    vfl4_val_loss_history.append(val_loss)\n",
    "    vfl4_val_acc_history.append(val_acc)\n",
    "    vfl4_class_loss_history.append(avg_class_loss)\n",
    "    vfl4_align_loss_history.append(avg_align_loss)\n",
    "    vfl4_comm_costs_upload.append(epoch_upload_cost)\n",
    "    vfl4_comm_costs_download.append(epoch_download_cost)\n",
    "    \n",
    "    # Print epoch progress\n",
    "    print(f\"Epoch {epoch+1}/{VFL4_EPOCHS} - loss: {avg_loss:.4f} - acc: {avg_acc:.4f} - val_loss: {val_loss:.4f} - val_acc: {val_acc:.4f}\")\n",
    "\n",
    "vfl4_total_time = time.time() - vfl4_start_time\n",
    "\n",
    "dual_image_client.save('/kaggle/working/exp4_dual_image_client.keras')\n",
    "dual_tabular_client.save('/kaggle/working/exp4_dual_tabular_client.keras')\n",
    "transformer_server.save('/kaggle/working/exp4_transformer_server.keras')"
   ]
  },
  {
   "cell_type": "code",
   "execution_count": 8,
   "id": "70cfed3d",
   "metadata": {
    "_cell_guid": "fb7e8905-2a46-4b7e-9cc4-87b1edc52bf6",
    "_uuid": "297d2b97-76dd-4b39-9f61-a899e76a9293",
    "collapsed": false,
    "execution": {
     "iopub.execute_input": "2025-10-26T10:35:56.381269Z",
     "iopub.status.busy": "2025-10-26T10:35:56.380759Z",
     "iopub.status.idle": "2025-10-26T10:35:58.161063Z",
     "shell.execute_reply": "2025-10-26T10:35:58.160302Z"
    },
    "jupyter": {
     "outputs_hidden": false
    },
    "papermill": {
     "duration": 1.786746,
     "end_time": "2025-10-26T10:35:58.162350",
     "exception": false,
     "start_time": "2025-10-26T10:35:56.375604",
     "status": "completed"
    },
    "tags": []
   },
   "outputs": [
    {
     "name": "stdout",
     "output_type": "stream",
     "text": [
      "Test Accuracy: 0.8880\n",
      "Balanced Accuracy: 0.9235\n",
      "Macro F1: 0.8928\n",
      "Macro Precision: 0.8732\n",
      "Macro Recall: 0.9235\n"
     ]
    }
   ],
   "source": [
    "test_spec_img, test_inv_img = dual_image_client.predict(X_test, verbose=0)\n",
    "test_spec_tab, test_inv_tab = dual_tabular_client.predict(test_tabular_features, verbose=0)\n",
    "test_predictions = transformer_server.predict([test_spec_img, test_inv_img, test_spec_tab, test_inv_tab], verbose=0)\n",
    "\n",
    "y_pred = np.argmax(test_predictions, axis=1)\n",
    "y_true = np.argmax(y_test, axis=1)\n",
    "\n",
    "vfl4_test_acc = accuracy_score(y_true, y_pred)\n",
    "vfl4_balanced_acc = balanced_accuracy_score(y_true, y_pred)\n",
    "vfl4_macro_f1 = f1_score(y_true, y_pred, average='macro')\n",
    "vfl4_macro_precision = precision_score(y_true, y_pred, average='macro')\n",
    "vfl4_macro_recall = recall_score(y_true, y_pred, average='macro')\n",
    "\n",
    "print(f\"Test Accuracy: {vfl4_test_acc:.4f}\")\n",
    "print(f\"Balanced Accuracy: {vfl4_balanced_acc:.4f}\")\n",
    "print(f\"Macro F1: {vfl4_macro_f1:.4f}\")\n",
    "print(f\"Macro Precision: {vfl4_macro_precision:.4f}\")\n",
    "print(f\"Macro Recall: {vfl4_macro_recall:.4f}\")"
   ]
  },
  {
   "cell_type": "code",
   "execution_count": null,
   "id": "4910eb00",
   "metadata": {
    "_cell_guid": "2784ef56-bc39-4361-9fde-6c32296f1d6e",
    "_uuid": "8769419e-86ef-4933-a8e3-d600324fe061",
    "collapsed": false,
    "execution": {
     "iopub.execute_input": "2025-10-26T10:35:58.172339Z",
     "iopub.status.busy": "2025-10-26T10:35:58.172093Z",
     "iopub.status.idle": "2025-10-26T10:35:59.712037Z",
     "shell.execute_reply": "2025-10-26T10:35:59.711363Z"
    },
    "jupyter": {
     "outputs_hidden": false
    },
    "papermill": {
     "duration": 1.54656,
     "end_time": "2025-10-26T10:35:59.713482",
     "exception": false,
     "start_time": "2025-10-26T10:35:58.166922",
     "status": "completed"
    },
    "tags": []
   },
   "outputs": [
    {
     "data": {
      "image/png": "[encoded data removed]",
      "text/plain": [
       "<Figure size 1000x800 with 2 Axes>"
      ]
     },
     "metadata": {},
     "output_type": "display_data"
    },
    {
     "data": {
      "image/png": "[encoded data removed]",
      "text/plain": [
       "<Figure size 1200x600 with 1 Axes>"
      ]
     },
     "metadata": {},
     "output_type": "display_data"
    }
   ],
   "source": [
    "lesion_types = ['nv', 'mel', 'bkl', 'bcc', 'akiec', 'vasc', 'df']\n",
    "\n",
    "cm = confusion_matrix(y_true, y_pred)\n",
    "plt.figure(figsize=(10, 8))\n",
    "sns.heatmap(cm, annot=True, fmt='d', cmap='Blues',\n",
    "            xticklabels=lesion_types, yticklabels=lesion_types)\n",
    "plt.title('Confusion Matrix', fontsize=14, fontweight='bold')\n",
    "plt.ylabel('True Label')\n",
    "plt.xlabel('Predicted Label')\n",
    "plt.tight_layout()\n",
    "plt.savefig('/kaggle/working/exp4_confusion_matrix.png', dpi=300, bbox_inches='tight')\n",
    "plt.show()\n",
    "\n",
    "per_class_acc = cm.diagonal() / cm.sum(axis=1)\n",
    "plt.figure(figsize=(12, 6))\n",
    "bars = plt.bar(lesion_types, per_class_acc, color='steelblue', alpha=0.7)\n",
    "plt.axhline(y=vfl4_balanced_acc, color='red', linestyle='--', linewidth=2, \n",
    "            label=f'Balanced Acc: {vfl4_balanced_acc:.3f}')\n",
    "plt.xlabel('Lesion Type', fontsize=12)\n",
    "plt.ylabel('Accuracy', fontsize=12)\n",
    "plt.title('Per-Class Accuracy', fontsize=14, fontweight='bold')\n",
    "plt.ylim([0, 1])\n",
    "plt.legend()\n",
    "plt.grid(axis='y', alpha=0.3)\n",
    "for bar, acc in zip(bars, per_class_acc):\n",
    "    height = bar.get_height()\n",
    "    plt.text(bar.get_x() + bar.get_width()/2., height + 0.02, f'{acc:.3f}',\n",
    "             ha='center', va='bottom', fontsize=10)\n",
    "plt.tight_layout()\n",
    "plt.savefig('/kaggle/working/exp4_per_class_accuracy.png', dpi=300, bbox_inches='tight')\n",
    "plt.show()"
   ]
  },
  {
   "cell_type": "code",
   "execution_count": 10,
   "id": "f7b96639",
   "metadata": {
    "_cell_guid": "1e03372d-05b9-4180-8ccb-8cecf7e41367",
    "_uuid": "745b838a-be67-4ebe-98db-6df685b3a2eb",
    "collapsed": false,
    "execution": {
     "iopub.execute_input": "2025-10-26T10:35:59.726009Z",
     "iopub.status.busy": "2025-10-26T10:35:59.725794Z",
     "iopub.status.idle": "2025-10-26T10:35:59.746277Z",
     "shell.execute_reply": "2025-10-26T10:35:59.745642Z"
    },
    "jupyter": {
     "outputs_hidden": false
    },
    "papermill": {
     "duration": 0.027979,
     "end_time": "2025-10-26T10:35:59.747421",
     "exception": false,
     "start_time": "2025-10-26T10:35:59.719442",
     "status": "completed"
    },
    "tags": []
   },
   "outputs": [],
   "source": [
    "inv_img_test_norm = test_inv_img / (np.linalg.norm(test_inv_img, axis=1, keepdims=True) + 1e-8)\n",
    "inv_tab_test_norm = test_inv_tab / (np.linalg.norm(test_inv_tab, axis=1, keepdims=True) + 1e-8)\n",
    "\n",
    "alignment_scores = np.sum(inv_img_test_norm * inv_tab_test_norm, axis=1)\n",
    "avg_alignment = np.mean(alignment_scores)\n",
    "\n",
    "exp4_results = {\n",
    "    'test_accuracy': float(vfl4_test_acc),\n",
    "    'balanced_accuracy': float(vfl4_balanced_acc),\n",
    "    'confusion_matrix': cm,\n",
    "    'training_history': {\n",
    "        'loss': vfl4_train_loss_history,\n",
    "        'acc': vfl4_train_acc_history,\n",
    "        'val_loss': vfl4_val_loss_history,\n",
    "        'val_acc': vfl4_val_acc_history,\n",
    "        'class_loss': vfl4_class_loss_history,\n",
    "        'align_loss': vfl4_align_loss_history,\n",
    "        'comm_upload': vfl4_comm_costs_upload,\n",
    "        'comm_download': vfl4_comm_costs_download\n",
    "    },\n",
    "    'per_class_accuracy': per_class_acc.tolist(),\n",
    "    'predictions': y_pred,\n",
    "    'alignment_stats': {\n",
    "        'mean': float(avg_alignment),\n",
    "        'min': float(alignment_scores.min()),\n",
    "        'max': float(alignment_scores.max()),\n",
    "        'std': float(alignment_scores.std())\n",
    "    },\n",
    "    'hyperparameters': {\n",
    "        'lambda_alignment': LAMBDA_ALIGNMENT,\n",
    "        'num_heads': 4,\n",
    "        'key_dim': 32\n",
    "    },\n",
    "    'training_time_minutes': vfl4_total_time / 60,\n",
    "    'architecture': 'cross_modal_transformer'\n",
    "}\n",
    "\n",
    "with open('/kaggle/working/exp4_results.pkl', 'wb') as f:\n",
    "    pickle.dump(exp4_results, f)"
   ]
  }
 ],
 "metadata": {
  "kaggle": {
   "accelerator": "gpu",
   "dataSources": [
    {
     "datasetId": 54339,
     "sourceId": 104884,
     "sourceType": "datasetVersion"
    },
    {
     "datasetId": 8572296,
     "sourceId": 13501080,
     "sourceType": "datasetVersion"
    },
    {
     "datasetId": 8572441,
     "sourceId": 13501321,
     "sourceType": "datasetVersion"
    },
    {
     "datasetId": 8572708,
     "sourceId": 13501866,
     "sourceType": "datasetVersion"
    }
   ],
   "dockerImageVersionId": 31154,
   "isGpuEnabled": true,
   "isInternetEnabled": true,
   "language": "python",
   "sourceType": "notebook"
  },
  "kernelspec": {
   "display_name": "Python 3",
   "language": "python",
   "name": "python3"
  },
  "language_info": {
   "codemirror_mode": {
    "name": "ipython",
    "version": 3
   },
   "file_extension": ".py",
   "mimetype": "text/x-python",
   "name": "python",
   "nbconvert_exporter": "python",
   "pygments_lexer": "ipython3",
   "version": "3.11.13"
  },
  "papermill": {
   "default_parameters": {},
   "duration": 9603.449277,
   "end_time": "2025-10-26T10:36:03.117577",
   "environment_variables": {},
   "exception": null,
   "input_path": "__notebook__.ipynb",
   "output_path": "__notebook__.ipynb",
   "parameters": {},
   "start_time": "2025-10-26T07:55:59.668300",
   "version": "2.6.0"
  }
 },
 "nbformat": 4,
 "nbformat_minor": 5
}
